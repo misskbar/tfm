{
 "cells": [
  {
   "cell_type": "code",
   "execution_count": 1237,
   "metadata": {},
   "outputs": [],
   "source": [
    "import pandas as pd\n",
    "import matplotlib.pyplot as plt\n",
    "dF_stores=pd.read_csv('stores.csv')\n",
    "dF_products=pd.read_csv('products.csv')\n",
    "dF_customers=pd.read_csv('customers.csv')\n",
    "dF_tickets=pd.read_csv('tickets.csv')"
   ]
  },
  {
   "cell_type": "markdown",
   "metadata": {},
   "source": [
    "### PRIMERAS OBSERVACIONES DE LA DATA"
   ]
  },
  {
   "cell_type": "markdown",
   "metadata": {},
   "source": [
    "#### STORES"
   ]
  },
  {
   "cell_type": "code",
   "execution_count": 1238,
   "metadata": {},
   "outputs": [
    {
     "name": "stdout",
     "output_type": "stream",
     "text": [
      "<class 'pandas.core.frame.DataFrame'>\n",
      "RangeIndex: 14 entries, 0 to 13\n",
      "Data columns (total 4 columns):\n",
      "storeid           14 non-null object\n",
      "isocountrycode    14 non-null object\n",
      "city              14 non-null object\n",
      "startdate         5 non-null object\n",
      "dtypes: object(4)\n",
      "memory usage: 528.0+ bytes\n"
     ]
    }
   ],
   "source": [
    "dF_stores.info()"
   ]
  },
  {
   "cell_type": "code",
   "execution_count": 1239,
   "metadata": {},
   "outputs": [
    {
     "data": {
      "text/html": [
       "<div>\n",
       "<style scoped>\n",
       "    .dataframe tbody tr th:only-of-type {\n",
       "        vertical-align: middle;\n",
       "    }\n",
       "\n",
       "    .dataframe tbody tr th {\n",
       "        vertical-align: top;\n",
       "    }\n",
       "\n",
       "    .dataframe thead th {\n",
       "        text-align: right;\n",
       "    }\n",
       "</style>\n",
       "<table border=\"1\" class=\"dataframe\">\n",
       "  <thead>\n",
       "    <tr style=\"text-align: right;\">\n",
       "      <th></th>\n",
       "      <th>storeid</th>\n",
       "      <th>isocountrycode</th>\n",
       "      <th>city</th>\n",
       "      <th>startdate</th>\n",
       "    </tr>\n",
       "  </thead>\n",
       "  <tbody>\n",
       "    <tr>\n",
       "      <th>0</th>\n",
       "      <td>ES4509</td>\n",
       "      <td>ES</td>\n",
       "      <td>Zaragoza</td>\n",
       "      <td>NaN</td>\n",
       "    </tr>\n",
       "    <tr>\n",
       "      <th>1</th>\n",
       "      <td>ES4507</td>\n",
       "      <td>ES</td>\n",
       "      <td>Zaragoza</td>\n",
       "      <td>2018-11-29</td>\n",
       "    </tr>\n",
       "    <tr>\n",
       "      <th>2</th>\n",
       "      <td>ES4506</td>\n",
       "      <td>ES</td>\n",
       "      <td>Zaragoza</td>\n",
       "      <td>NaN</td>\n",
       "    </tr>\n",
       "    <tr>\n",
       "      <th>3</th>\n",
       "      <td>ES4504</td>\n",
       "      <td>ES</td>\n",
       "      <td>Zaragoza</td>\n",
       "      <td>2015-12-17</td>\n",
       "    </tr>\n",
       "    <tr>\n",
       "      <th>4</th>\n",
       "      <td>ES4503</td>\n",
       "      <td>ES</td>\n",
       "      <td>Zaragoza</td>\n",
       "      <td>2015-12-17</td>\n",
       "    </tr>\n",
       "  </tbody>\n",
       "</table>\n",
       "</div>"
      ],
      "text/plain": [
       "  storeid isocountrycode      city   startdate\n",
       "0  ES4509             ES  Zaragoza         NaN\n",
       "1  ES4507             ES  Zaragoza  2018-11-29\n",
       "2  ES4506             ES  Zaragoza         NaN\n",
       "3  ES4504             ES  Zaragoza  2015-12-17\n",
       "4  ES4503             ES  Zaragoza  2015-12-17"
      ]
     },
     "execution_count": 1239,
     "metadata": {},
     "output_type": "execute_result"
    }
   ],
   "source": [
    "dF_stores.head()"
   ]
  },
  {
   "cell_type": "code",
   "execution_count": 1240,
   "metadata": {},
   "outputs": [
    {
     "data": {
      "text/plain": [
       "(14, 4)"
      ]
     },
     "execution_count": 1240,
     "metadata": {},
     "output_type": "execute_result"
    }
   ],
   "source": [
    "dF_stores.shape"
   ]
  },
  {
   "cell_type": "markdown",
   "metadata": {},
   "source": [
    "### PRODUCTS"
   ]
  },
  {
   "cell_type": "code",
   "execution_count": 1241,
   "metadata": {},
   "outputs": [
    {
     "name": "stdout",
     "output_type": "stream",
     "text": [
      "<class 'pandas.core.frame.DataFrame'>\n",
      "RangeIndex: 7727 entries, 0 to 7726\n",
      "Data columns (total 17 columns):\n",
      "productid                     7727 non-null int64\n",
      "merchandisegroup              7727 non-null object\n",
      "merchandisesubgroup           7727 non-null object\n",
      "isocountrycode                7727 non-null object\n",
      "article                       7727 non-null object\n",
      "internationalarticlenumber    4182 non-null float64\n",
      "sectionname                   4471 non-null object\n",
      "familyname                    4471 non-null object\n",
      "categoryname                  4471 non-null object\n",
      "subcategoryname               4471 non-null object\n",
      "merchandisefamily             7727 non-null object\n",
      "weightproduct                 7727 non-null bool\n",
      "scaleproduct                  7727 non-null bool\n",
      "vatdescription                7727 non-null object\n",
      "vatrate                       7727 non-null float64\n",
      "agelimit                      7727 non-null object\n",
      "hwgdescription                7727 non-null object\n",
      "dtypes: bool(2), float64(2), int64(1), object(12)\n",
      "memory usage: 920.7+ KB\n"
     ]
    }
   ],
   "source": [
    "dF_products.info()"
   ]
  },
  {
   "cell_type": "code",
   "execution_count": 1242,
   "metadata": {},
   "outputs": [
    {
     "data": {
      "text/html": [
       "<div>\n",
       "<style scoped>\n",
       "    .dataframe tbody tr th:only-of-type {\n",
       "        vertical-align: middle;\n",
       "    }\n",
       "\n",
       "    .dataframe tbody tr th {\n",
       "        vertical-align: top;\n",
       "    }\n",
       "\n",
       "    .dataframe thead th {\n",
       "        text-align: right;\n",
       "    }\n",
       "</style>\n",
       "<table border=\"1\" class=\"dataframe\">\n",
       "  <thead>\n",
       "    <tr style=\"text-align: right;\">\n",
       "      <th></th>\n",
       "      <th>productid</th>\n",
       "      <th>merchandisegroup</th>\n",
       "      <th>merchandisesubgroup</th>\n",
       "      <th>isocountrycode</th>\n",
       "      <th>article</th>\n",
       "      <th>internationalarticlenumber</th>\n",
       "      <th>sectionname</th>\n",
       "      <th>familyname</th>\n",
       "      <th>categoryname</th>\n",
       "      <th>subcategoryname</th>\n",
       "      <th>merchandisefamily</th>\n",
       "      <th>weightproduct</th>\n",
       "      <th>scaleproduct</th>\n",
       "      <th>vatdescription</th>\n",
       "      <th>vatrate</th>\n",
       "      <th>agelimit</th>\n",
       "      <th>hwgdescription</th>\n",
       "    </tr>\n",
       "  </thead>\n",
       "  <tbody>\n",
       "    <tr>\n",
       "      <th>0</th>\n",
       "      <td>1039</td>\n",
       "      <td>Surtido seco</td>\n",
       "      <td>Golosinas</td>\n",
       "      <td>ES</td>\n",
       "      <td>Orbit chicles sabores mentolados</td>\n",
       "      <td>NaN</td>\n",
       "      <td>ALIMENTACION SECA</td>\n",
       "      <td>CHICLES, CARAMELO, GOLOSI</td>\n",
       "      <td>CHICLES</td>\n",
       "      <td>CHICLES</td>\n",
       "      <td>Otros productos dulces</td>\n",
       "      <td>False</td>\n",
       "      <td>True</td>\n",
       "      <td>Reducido</td>\n",
       "      <td>10.0</td>\n",
       "      <td>Keines</td>\n",
       "      <td>Pan/BollerÃ­a/Golosinas/OTC</td>\n",
       "    </tr>\n",
       "    <tr>\n",
       "      <th>1</th>\n",
       "      <td>3408</td>\n",
       "      <td>Surtido seco</td>\n",
       "      <td>Cosmetic</td>\n",
       "      <td>ES</td>\n",
       "      <td>Signal dentÃ­frico</td>\n",
       "      <td>NaN</td>\n",
       "      <td>PERFUMERIA E HIGIENE</td>\n",
       "      <td>HIGIENE BUCAL</td>\n",
       "      <td>DENTIFRICOS</td>\n",
       "      <td>DENTIFRICOS</td>\n",
       "      <td>Higiene bucal, afeitado</td>\n",
       "      <td>False</td>\n",
       "      <td>True</td>\n",
       "      <td>Ordinario</td>\n",
       "      <td>21.0</td>\n",
       "      <td>Keines</td>\n",
       "      <td>Surtido NF</td>\n",
       "    </tr>\n",
       "    <tr>\n",
       "      <th>2</th>\n",
       "      <td>8060</td>\n",
       "      <td>Surtido seco</td>\n",
       "      <td>Art. Limpieza</td>\n",
       "      <td>ES</td>\n",
       "      <td>Krafft Lavaparabrisas</td>\n",
       "      <td>NaN</td>\n",
       "      <td>ARTICULOS  RESTO</td>\n",
       "      <td>ARTICULOS  RESTO</td>\n",
       "      <td>ARTICULOS  RESTO</td>\n",
       "      <td>ARTICULOS  RESTO</td>\n",
       "      <td>Productos de limpieza y lavavajillas</td>\n",
       "      <td>False</td>\n",
       "      <td>False</td>\n",
       "      <td>Ordinario</td>\n",
       "      <td>21.0</td>\n",
       "      <td>Keines</td>\n",
       "      <td>Surtido NF</td>\n",
       "    </tr>\n",
       "    <tr>\n",
       "      <th>3</th>\n",
       "      <td>8602</td>\n",
       "      <td>Surtido seco</td>\n",
       "      <td>Cervezas / Derivados</td>\n",
       "      <td>ES</td>\n",
       "      <td>Benediktiner Cerveza de trigo sin a</td>\n",
       "      <td>NaN</td>\n",
       "      <td>NaN</td>\n",
       "      <td>NaN</td>\n",
       "      <td>NaN</td>\n",
       "      <td>NaN</td>\n",
       "      <td>Cerveza, combinados de cerveza</td>\n",
       "      <td>False</td>\n",
       "      <td>False</td>\n",
       "      <td>Ordinario</td>\n",
       "      <td>21.0</td>\n",
       "      <td>18</td>\n",
       "      <td>Bebidas</td>\n",
       "    </tr>\n",
       "    <tr>\n",
       "      <th>4</th>\n",
       "      <td>5701449</td>\n",
       "      <td>Frischbrot / Hot Convenience</td>\n",
       "      <td>Bake off</td>\n",
       "      <td>ES</td>\n",
       "      <td>Mona de Pascua con frutas</td>\n",
       "      <td>5701449.0</td>\n",
       "      <td>PASTELERIA/BOLLERIA GRANEL</td>\n",
       "      <td>PASTELERIA/BOLLERIA GRANEL</td>\n",
       "      <td>PASTELERIA/BOLLERIA GRANEL</td>\n",
       "      <td>PASTELERIA/BOLLERIA GRANEL</td>\n",
       "      <td>Otros</td>\n",
       "      <td>False</td>\n",
       "      <td>False</td>\n",
       "      <td>Reducido</td>\n",
       "      <td>10.0</td>\n",
       "      <td>Keines</td>\n",
       "      <td>Pan/BollerÃ­a/Golosinas/OTC</td>\n",
       "    </tr>\n",
       "  </tbody>\n",
       "</table>\n",
       "</div>"
      ],
      "text/plain": [
       "   productid              merchandisegroup   merchandisesubgroup  \\\n",
       "0       1039                  Surtido seco             Golosinas   \n",
       "1       3408                  Surtido seco              Cosmetic   \n",
       "2       8060                  Surtido seco         Art. Limpieza   \n",
       "3       8602                  Surtido seco  Cervezas / Derivados   \n",
       "4    5701449  Frischbrot / Hot Convenience              Bake off   \n",
       "\n",
       "  isocountrycode                              article  \\\n",
       "0             ES     Orbit chicles sabores mentolados   \n",
       "1             ES                   Signal dentÃ­frico   \n",
       "2             ES                Krafft Lavaparabrisas   \n",
       "3             ES  Benediktiner Cerveza de trigo sin a   \n",
       "4             ES            Mona de Pascua con frutas   \n",
       "\n",
       "   internationalarticlenumber                 sectionname  \\\n",
       "0                         NaN           ALIMENTACION SECA   \n",
       "1                         NaN        PERFUMERIA E HIGIENE   \n",
       "2                         NaN            ARTICULOS  RESTO   \n",
       "3                         NaN                         NaN   \n",
       "4                   5701449.0  PASTELERIA/BOLLERIA GRANEL   \n",
       "\n",
       "                   familyname                categoryname  \\\n",
       "0   CHICLES, CARAMELO, GOLOSI                     CHICLES   \n",
       "1               HIGIENE BUCAL                 DENTIFRICOS   \n",
       "2            ARTICULOS  RESTO            ARTICULOS  RESTO   \n",
       "3                         NaN                         NaN   \n",
       "4  PASTELERIA/BOLLERIA GRANEL  PASTELERIA/BOLLERIA GRANEL   \n",
       "\n",
       "              subcategoryname                     merchandisefamily  \\\n",
       "0                     CHICLES                Otros productos dulces   \n",
       "1                 DENTIFRICOS               Higiene bucal, afeitado   \n",
       "2            ARTICULOS  RESTO  Productos de limpieza y lavavajillas   \n",
       "3                         NaN        Cerveza, combinados de cerveza   \n",
       "4  PASTELERIA/BOLLERIA GRANEL                                 Otros   \n",
       "\n",
       "   weightproduct  scaleproduct vatdescription  vatrate agelimit  \\\n",
       "0          False          True       Reducido     10.0   Keines   \n",
       "1          False          True      Ordinario     21.0   Keines   \n",
       "2          False         False      Ordinario     21.0   Keines   \n",
       "3          False         False      Ordinario     21.0       18   \n",
       "4          False         False       Reducido     10.0   Keines   \n",
       "\n",
       "                hwgdescription  \n",
       "0  Pan/BollerÃ­a/Golosinas/OTC  \n",
       "1                   Surtido NF  \n",
       "2                   Surtido NF  \n",
       "3                      Bebidas  \n",
       "4  Pan/BollerÃ­a/Golosinas/OTC  "
      ]
     },
     "execution_count": 1242,
     "metadata": {},
     "output_type": "execute_result"
    }
   ],
   "source": [
    "dF_products.head()"
   ]
  },
  {
   "cell_type": "code",
   "execution_count": 1243,
   "metadata": {},
   "outputs": [
    {
     "data": {
      "text/plain": [
       "(7727, 17)"
      ]
     },
     "execution_count": 1243,
     "metadata": {},
     "output_type": "execute_result"
    }
   ],
   "source": [
    "dF_products.shape"
   ]
  },
  {
   "cell_type": "markdown",
   "metadata": {},
   "source": [
    "### CUSTOMERS"
   ]
  },
  {
   "cell_type": "code",
   "execution_count": 1244,
   "metadata": {},
   "outputs": [
    {
     "name": "stdout",
     "output_type": "stream",
     "text": [
      "<class 'pandas.core.frame.DataFrame'>\n",
      "RangeIndex: 65259 entries, 0 to 65258\n",
      "Data columns (total 8 columns):\n",
      "customerid            65259 non-null int64\n",
      "isocountrycode        65259 non-null object\n",
      "regularstoreid        65259 non-null object\n",
      "registrationdate      65259 non-null object\n",
      "unregistrationdate    12791 non-null object\n",
      "gender                56864 non-null object\n",
      "age                   56899 non-null float64\n",
      "zipcode               56166 non-null object\n",
      "dtypes: float64(1), int64(1), object(6)\n",
      "memory usage: 4.0+ MB\n"
     ]
    }
   ],
   "source": [
    "dF_customers.info()"
   ]
  },
  {
   "cell_type": "code",
   "execution_count": 1245,
   "metadata": {},
   "outputs": [
    {
     "data": {
      "text/html": [
       "<div>\n",
       "<style scoped>\n",
       "    .dataframe tbody tr th:only-of-type {\n",
       "        vertical-align: middle;\n",
       "    }\n",
       "\n",
       "    .dataframe tbody tr th {\n",
       "        vertical-align: top;\n",
       "    }\n",
       "\n",
       "    .dataframe thead th {\n",
       "        text-align: right;\n",
       "    }\n",
       "</style>\n",
       "<table border=\"1\" class=\"dataframe\">\n",
       "  <thead>\n",
       "    <tr style=\"text-align: right;\">\n",
       "      <th></th>\n",
       "      <th>customerid</th>\n",
       "      <th>isocountrycode</th>\n",
       "      <th>regularstoreid</th>\n",
       "      <th>registrationdate</th>\n",
       "      <th>unregistrationdate</th>\n",
       "      <th>gender</th>\n",
       "      <th>age</th>\n",
       "      <th>zipcode</th>\n",
       "    </tr>\n",
       "  </thead>\n",
       "  <tbody>\n",
       "    <tr>\n",
       "      <th>0</th>\n",
       "      <td>77340000025949734</td>\n",
       "      <td>ES</td>\n",
       "      <td>ES0263</td>\n",
       "      <td>2017-11-26</td>\n",
       "      <td>NaN</td>\n",
       "      <td>M</td>\n",
       "      <td>56.0</td>\n",
       "      <td>50018</td>\n",
       "    </tr>\n",
       "    <tr>\n",
       "      <th>1</th>\n",
       "      <td>77340000025945951</td>\n",
       "      <td>ES</td>\n",
       "      <td>ES4503</td>\n",
       "      <td>2017-11-25</td>\n",
       "      <td>NaN</td>\n",
       "      <td>F</td>\n",
       "      <td>41.0</td>\n",
       "      <td>50021</td>\n",
       "    </tr>\n",
       "    <tr>\n",
       "      <th>2</th>\n",
       "      <td>77340000025945660</td>\n",
       "      <td>ES</td>\n",
       "      <td>ES0428</td>\n",
       "      <td>2017-11-25</td>\n",
       "      <td>NaN</td>\n",
       "      <td>M</td>\n",
       "      <td>87.0</td>\n",
       "      <td>50009</td>\n",
       "    </tr>\n",
       "    <tr>\n",
       "      <th>3</th>\n",
       "      <td>77340000025943914</td>\n",
       "      <td>ES</td>\n",
       "      <td>ES4504</td>\n",
       "      <td>2017-11-25</td>\n",
       "      <td>NaN</td>\n",
       "      <td>M</td>\n",
       "      <td>73.0</td>\n",
       "      <td>50009</td>\n",
       "    </tr>\n",
       "    <tr>\n",
       "      <th>4</th>\n",
       "      <td>77340000025943041</td>\n",
       "      <td>ES</td>\n",
       "      <td>ES0428</td>\n",
       "      <td>2017-11-25</td>\n",
       "      <td>NaN</td>\n",
       "      <td>F</td>\n",
       "      <td>44.0</td>\n",
       "      <td>50004</td>\n",
       "    </tr>\n",
       "  </tbody>\n",
       "</table>\n",
       "</div>"
      ],
      "text/plain": [
       "          customerid isocountrycode regularstoreid registrationdate  \\\n",
       "0  77340000025949734             ES         ES0263       2017-11-26   \n",
       "1  77340000025945951             ES         ES4503       2017-11-25   \n",
       "2  77340000025945660             ES         ES0428       2017-11-25   \n",
       "3  77340000025943914             ES         ES4504       2017-11-25   \n",
       "4  77340000025943041             ES         ES0428       2017-11-25   \n",
       "\n",
       "  unregistrationdate gender   age zipcode  \n",
       "0                NaN      M  56.0   50018  \n",
       "1                NaN      F  41.0   50021  \n",
       "2                NaN      M  87.0   50009  \n",
       "3                NaN      M  73.0   50009  \n",
       "4                NaN      F  44.0   50004  "
      ]
     },
     "execution_count": 1245,
     "metadata": {},
     "output_type": "execute_result"
    }
   ],
   "source": [
    "dF_customers.head()"
   ]
  },
  {
   "cell_type": "code",
   "execution_count": 1246,
   "metadata": {},
   "outputs": [
    {
     "data": {
      "text/plain": [
       "(65259, 8)"
      ]
     },
     "execution_count": 1246,
     "metadata": {},
     "output_type": "execute_result"
    }
   ],
   "source": [
    "dF_customers.shape"
   ]
  },
  {
   "cell_type": "markdown",
   "metadata": {},
   "source": [
    "### TICKETS"
   ]
  },
  {
   "cell_type": "code",
   "execution_count": 1247,
   "metadata": {},
   "outputs": [
    {
     "name": "stdout",
     "output_type": "stream",
     "text": [
      "<class 'pandas.core.frame.DataFrame'>\n",
      "RangeIndex: 1000000 entries, 0 to 999999\n",
      "Data columns (total 13 columns):\n",
      "ticketid           1000000 non-null object\n",
      "linenumber         1000000 non-null int64\n",
      "customerid         1000000 non-null int64\n",
      "cardtype           1000000 non-null object\n",
      "datekey            1000000 non-null object\n",
      "productid          1000000 non-null int64\n",
      "quantity           1000000 non-null float64\n",
      "extendedamount     1000000 non-null float64\n",
      "originalamount     1000000 non-null float64\n",
      "totaldiscount      1000000 non-null float64\n",
      "itemdescription    1000000 non-null object\n",
      "storeid            1000000 non-null object\n",
      "storecity          1000000 non-null object\n",
      "dtypes: float64(4), int64(3), object(6)\n",
      "memory usage: 99.2+ MB\n"
     ]
    }
   ],
   "source": [
    "dF_tickets.info()"
   ]
  },
  {
   "cell_type": "code",
   "execution_count": 1248,
   "metadata": {},
   "outputs": [
    {
     "data": {
      "text/html": [
       "<div>\n",
       "<style scoped>\n",
       "    .dataframe tbody tr th:only-of-type {\n",
       "        vertical-align: middle;\n",
       "    }\n",
       "\n",
       "    .dataframe tbody tr th {\n",
       "        vertical-align: top;\n",
       "    }\n",
       "\n",
       "    .dataframe thead th {\n",
       "        text-align: right;\n",
       "    }\n",
       "</style>\n",
       "<table border=\"1\" class=\"dataframe\">\n",
       "  <thead>\n",
       "    <tr style=\"text-align: right;\">\n",
       "      <th></th>\n",
       "      <th>ticketid</th>\n",
       "      <th>linenumber</th>\n",
       "      <th>customerid</th>\n",
       "      <th>cardtype</th>\n",
       "      <th>datekey</th>\n",
       "      <th>productid</th>\n",
       "      <th>quantity</th>\n",
       "      <th>extendedamount</th>\n",
       "      <th>originalamount</th>\n",
       "      <th>totaldiscount</th>\n",
       "      <th>itemdescription</th>\n",
       "      <th>storeid</th>\n",
       "      <th>storecity</th>\n",
       "    </tr>\n",
       "  </thead>\n",
       "  <tbody>\n",
       "    <tr>\n",
       "      <th>0</th>\n",
       "      <td>10004503220190201744194</td>\n",
       "      <td>19</td>\n",
       "      <td>77340000013311992</td>\n",
       "      <td>DigitalCard</td>\n",
       "      <td>2019-02-01</td>\n",
       "      <td>853</td>\n",
       "      <td>1.0</td>\n",
       "      <td>1.29</td>\n",
       "      <td>1.29</td>\n",
       "      <td>0.0</td>\n",
       "      <td>AtÃƒÂºn claro natural</td>\n",
       "      <td>ES4503</td>\n",
       "      <td>Zaragoza</td>\n",
       "    </tr>\n",
       "    <tr>\n",
       "      <th>1</th>\n",
       "      <td>10004503520190201774912</td>\n",
       "      <td>13</td>\n",
       "      <td>77340000013409574</td>\n",
       "      <td>DigitalCard</td>\n",
       "      <td>2019-02-01</td>\n",
       "      <td>5704109</td>\n",
       "      <td>1.0</td>\n",
       "      <td>1.09</td>\n",
       "      <td>1.09</td>\n",
       "      <td>0.0</td>\n",
       "      <td>Agua mineral natur</td>\n",
       "      <td>ES4503</td>\n",
       "      <td>Zaragoza</td>\n",
       "    </tr>\n",
       "    <tr>\n",
       "      <th>2</th>\n",
       "      <td>1000450732019020114037</td>\n",
       "      <td>14</td>\n",
       "      <td>77340000011772214</td>\n",
       "      <td>DigitalCard</td>\n",
       "      <td>2019-02-01</td>\n",
       "      <td>201</td>\n",
       "      <td>1.0</td>\n",
       "      <td>0.99</td>\n",
       "      <td>0.99</td>\n",
       "      <td>0.0</td>\n",
       "      <td>CafÃƒÂ© nat molido</td>\n",
       "      <td>ES4507</td>\n",
       "      <td>Zaragoza</td>\n",
       "    </tr>\n",
       "    <tr>\n",
       "      <th>3</th>\n",
       "      <td>1000450762019020140789</td>\n",
       "      <td>43</td>\n",
       "      <td>77340000000542815</td>\n",
       "      <td>Mobile</td>\n",
       "      <td>2019-02-01</td>\n",
       "      <td>262</td>\n",
       "      <td>1.0</td>\n",
       "      <td>0.75</td>\n",
       "      <td>0.75</td>\n",
       "      <td>0.0</td>\n",
       "      <td>Chocolate fondant</td>\n",
       "      <td>ES4507</td>\n",
       "      <td>Zaragoza</td>\n",
       "    </tr>\n",
       "    <tr>\n",
       "      <th>4</th>\n",
       "      <td>10004504320190201330084</td>\n",
       "      <td>20</td>\n",
       "      <td>77340000013090638</td>\n",
       "      <td>Mobile</td>\n",
       "      <td>2019-02-01</td>\n",
       "      <td>37082</td>\n",
       "      <td>1.0</td>\n",
       "      <td>1.05</td>\n",
       "      <td>1.05</td>\n",
       "      <td>0.0</td>\n",
       "      <td>Yogur natural</td>\n",
       "      <td>ES4504</td>\n",
       "      <td>Zaragoza</td>\n",
       "    </tr>\n",
       "  </tbody>\n",
       "</table>\n",
       "</div>"
      ],
      "text/plain": [
       "                  ticketid  linenumber         customerid     cardtype  \\\n",
       "0  10004503220190201744194          19  77340000013311992  DigitalCard   \n",
       "1  10004503520190201774912          13  77340000013409574  DigitalCard   \n",
       "2   1000450732019020114037          14  77340000011772214  DigitalCard   \n",
       "3   1000450762019020140789          43  77340000000542815       Mobile   \n",
       "4  10004504320190201330084          20  77340000013090638       Mobile   \n",
       "\n",
       "      datekey  productid  quantity  extendedamount  originalamount  \\\n",
       "0  2019-02-01        853       1.0            1.29            1.29   \n",
       "1  2019-02-01    5704109       1.0            1.09            1.09   \n",
       "2  2019-02-01        201       1.0            0.99            0.99   \n",
       "3  2019-02-01        262       1.0            0.75            0.75   \n",
       "4  2019-02-01      37082       1.0            1.05            1.05   \n",
       "\n",
       "   totaldiscount        itemdescription storeid storecity  \n",
       "0            0.0  AtÃƒÂºn claro natural  ES4503  Zaragoza  \n",
       "1            0.0     Agua mineral natur  ES4503  Zaragoza  \n",
       "2            0.0     CafÃƒÂ© nat molido  ES4507  Zaragoza  \n",
       "3            0.0      Chocolate fondant  ES4507  Zaragoza  \n",
       "4            0.0          Yogur natural  ES4504  Zaragoza  "
      ]
     },
     "execution_count": 1248,
     "metadata": {},
     "output_type": "execute_result"
    }
   ],
   "source": [
    "dF_tickets.head()"
   ]
  },
  {
   "cell_type": "code",
   "execution_count": 1249,
   "metadata": {},
   "outputs": [
    {
     "data": {
      "text/plain": [
       "(1000000, 13)"
      ]
     },
     "execution_count": 1249,
     "metadata": {},
     "output_type": "execute_result"
    }
   ],
   "source": [
    "dF_tickets.shape"
   ]
  },
  {
   "cell_type": "markdown",
   "metadata": {},
   "source": [
    "#### Total tickets de compra "
   ]
  },
  {
   "cell_type": "code",
   "execution_count": 1250,
   "metadata": {},
   "outputs": [
    {
     "data": {
      "text/plain": [
       "68193"
      ]
     },
     "execution_count": 1250,
     "metadata": {},
     "output_type": "execute_result"
    }
   ],
   "source": [
    "len(dF_tickets['ticketid'].unique().tolist())"
   ]
  },
  {
   "cell_type": "markdown",
   "metadata": {},
   "source": [
    "#### Total de usuarios que han realizado compras"
   ]
  },
  {
   "cell_type": "code",
   "execution_count": 1251,
   "metadata": {},
   "outputs": [
    {
     "data": {
      "text/plain": [
       "20894"
      ]
     },
     "execution_count": 1251,
     "metadata": {},
     "output_type": "execute_result"
    }
   ],
   "source": [
    "len(dF_tickets['customerid'].unique().tolist())"
   ]
  },
  {
   "cell_type": "markdown",
   "metadata": {},
   "source": [
    "#### Total tickets generados por usuario (representa la cantidad de productos en cada ticket)"
   ]
  },
  {
   "cell_type": "code",
   "execution_count": 1252,
   "metadata": {},
   "outputs": [
    {
     "data": {
      "text/plain": [
       "customerid         ticketid               \n",
       "77000000050003334  10000428320190111421962    20\n",
       "                   1000450752019020127200     34\n",
       "                   1000450752019022134938     32\n",
       "77000000050010221  10000428220190228674807     5\n",
       "77000000050012258  10004504220190114294451     9\n",
       "                   10004504320190110322990    16\n",
       "                   10004504420190131304664     4\n",
       "                   10004504420190321324176    18\n",
       "                   10004504520190124324641    14\n",
       "                   10004504620190314224974     3\n",
       "77000000050014586  10000263220190314174        7\n",
       "                   100002633201903181695       7\n",
       "                   1000450732019030219876     18\n",
       "                   1000450742019012419208      3\n",
       "                   1000450772019020248776     11\n",
       "77000000050014974  10004503620190104342551     1\n",
       "                   10004503620190104342873    17\n",
       "                   10004503620190111346220    17\n",
       "                   100045071201901035573       6\n",
       "                   1000450732019020214138     22\n",
       "                   1000450752019021432675      9\n",
       "77000000050015653  10000428120190221804675    10\n",
       "77000000050019145  10000428220190201659554     5\n",
       "77000000050027196  10004503120190323580742    18\n",
       "                   10004503420190221738450    37\n",
       "                   10004503520190228787707    27\n",
       "77000000050028748  1000450752019020930844     21\n",
       "                   1000450762019011933769     19\n",
       "                   1000450762019031660760     13\n",
       "77000000050031076  10004503420190314744882     6\n",
       "                                              ..\n",
       "77340000025924514  10000428420190104313671     6\n",
       "                   10000428420190318337046     6\n",
       "                   10000428520190316177622     9\n",
       "77340000025926842  10004504320190201330032    10\n",
       "                   10004504320190201330033     6\n",
       "                   10004504420190124301689     7\n",
       "                   10004504520190103317263    16\n",
       "                   10004504520190105318234    23\n",
       "                   10004504620190321226447    28\n",
       "77340000025929558  10004504320190112323490     9\n",
       "77340000025932274  100002635201903238044       5\n",
       "77340000025935281  100002635201903238043       8\n",
       "77340000025935766  10004504520190225338188    13\n",
       "77340000025940422  1000450762019032163010      7\n",
       "                   1000450772019021459483     11\n",
       "                   1000450772019021459492      1\n",
       "77340000201581426  10004504220190103292224     2\n",
       "77340000204454663  1000450762019011027957     25\n",
       "77340000204895916  10004504520190111319649     2\n",
       "77340000206071944  10004504320190114323919    18\n",
       "77340000206094351  1000450752019011420529     16\n",
       "77340000206183882  10004503420190114725175    15\n",
       "77340000206343350  1000450772019011431809     37\n",
       "77340000206370607  1000450772019011431860     12\n",
       "77340000206389134  10004503420190114725432    23\n",
       "77340000208173061  1000450762019011933748     21\n",
       "77340000208212443  10004504620190119215285    53\n",
       "77340000208222919  1000450762019011933837     29\n",
       "77340000208267733  10004504220190119296607    21\n",
       "77340000208428462  1000450762019011934280     59\n",
       "Name: ticketid, Length: 68193, dtype: int64"
      ]
     },
     "execution_count": 1252,
     "metadata": {},
     "output_type": "execute_result"
    }
   ],
   "source": [
    "dF_tickets.groupby(['customerid','ticketid'])['ticketid'].count()"
   ]
  },
  {
   "cell_type": "markdown",
   "metadata": {},
   "source": [
    "#### Id del ticket, Id del usuario, medio de pago y fecha de compra sin duplicados"
   ]
  },
  {
   "cell_type": "code",
   "execution_count": 1253,
   "metadata": {},
   "outputs": [
    {
     "data": {
      "text/plain": [
       "(68193, 5)"
      ]
     },
     "execution_count": 1253,
     "metadata": {},
     "output_type": "execute_result"
    }
   ],
   "source": [
    "df_customers_ticket_date = dF_tickets[{'ticketid','customerid','datekey','cardtype','storeid'}].drop_duplicates()\n",
    "df_customers_ticket_date.shape"
   ]
  },
  {
   "cell_type": "code",
   "execution_count": 1254,
   "metadata": {},
   "outputs": [
    {
     "data": {
      "text/html": [
       "<div>\n",
       "<style scoped>\n",
       "    .dataframe tbody tr th:only-of-type {\n",
       "        vertical-align: middle;\n",
       "    }\n",
       "\n",
       "    .dataframe tbody tr th {\n",
       "        vertical-align: top;\n",
       "    }\n",
       "\n",
       "    .dataframe thead th {\n",
       "        text-align: right;\n",
       "    }\n",
       "</style>\n",
       "<table border=\"1\" class=\"dataframe\">\n",
       "  <thead>\n",
       "    <tr style=\"text-align: right;\">\n",
       "      <th></th>\n",
       "      <th>datekey</th>\n",
       "      <th>ticketid</th>\n",
       "      <th>storeid</th>\n",
       "      <th>cardtype</th>\n",
       "      <th>customerid</th>\n",
       "    </tr>\n",
       "  </thead>\n",
       "  <tbody>\n",
       "    <tr>\n",
       "      <th>0</th>\n",
       "      <td>2019-02-01</td>\n",
       "      <td>10004503220190201744194</td>\n",
       "      <td>ES4503</td>\n",
       "      <td>DigitalCard</td>\n",
       "      <td>77340000013311992</td>\n",
       "    </tr>\n",
       "    <tr>\n",
       "      <th>1</th>\n",
       "      <td>2019-02-01</td>\n",
       "      <td>10004503520190201774912</td>\n",
       "      <td>ES4503</td>\n",
       "      <td>DigitalCard</td>\n",
       "      <td>77340000013409574</td>\n",
       "    </tr>\n",
       "    <tr>\n",
       "      <th>2</th>\n",
       "      <td>2019-02-01</td>\n",
       "      <td>1000450732019020114037</td>\n",
       "      <td>ES4507</td>\n",
       "      <td>DigitalCard</td>\n",
       "      <td>77340000011772214</td>\n",
       "    </tr>\n",
       "    <tr>\n",
       "      <th>3</th>\n",
       "      <td>2019-02-01</td>\n",
       "      <td>1000450762019020140789</td>\n",
       "      <td>ES4507</td>\n",
       "      <td>Mobile</td>\n",
       "      <td>77340000000542815</td>\n",
       "    </tr>\n",
       "    <tr>\n",
       "      <th>4</th>\n",
       "      <td>2019-02-01</td>\n",
       "      <td>10004504320190201330084</td>\n",
       "      <td>ES4504</td>\n",
       "      <td>Mobile</td>\n",
       "      <td>77340000013090638</td>\n",
       "    </tr>\n",
       "  </tbody>\n",
       "</table>\n",
       "</div>"
      ],
      "text/plain": [
       "      datekey                 ticketid storeid     cardtype         customerid\n",
       "0  2019-02-01  10004503220190201744194  ES4503  DigitalCard  77340000013311992\n",
       "1  2019-02-01  10004503520190201774912  ES4503  DigitalCard  77340000013409574\n",
       "2  2019-02-01   1000450732019020114037  ES4507  DigitalCard  77340000011772214\n",
       "3  2019-02-01   1000450762019020140789  ES4507       Mobile  77340000000542815\n",
       "4  2019-02-01  10004504320190201330084  ES4504       Mobile  77340000013090638"
      ]
     },
     "execution_count": 1254,
     "metadata": {},
     "output_type": "execute_result"
    }
   ],
   "source": [
    "df_customers_ticket_date.head()"
   ]
  },
  {
   "cell_type": "markdown",
   "metadata": {},
   "source": [
    "### Análisis por semana del año"
   ]
  },
  {
   "cell_type": "code",
   "execution_count": 1255,
   "metadata": {},
   "outputs": [],
   "source": [
    "from datetime import datetime"
   ]
  },
  {
   "cell_type": "markdown",
   "metadata": {},
   "source": [
    "#### Asignar el formato de fecha a la columna 'datekey'"
   ]
  },
  {
   "cell_type": "code",
   "execution_count": 1256,
   "metadata": {},
   "outputs": [],
   "source": [
    "df_customers_ticket_date['datekey']= pd.to_datetime(df_customers_ticket_date['datekey'],format=\"%Y-%m-%d\")"
   ]
  },
  {
   "cell_type": "markdown",
   "metadata": {},
   "source": [
    "#### Agregar columna 'week_number_of_year' que simboliza el numero de la semana del año al que corresponde la compra"
   ]
  },
  {
   "cell_type": "code",
   "execution_count": 1257,
   "metadata": {},
   "outputs": [],
   "source": [
    "df_customers_ticket_date['week_number_of_year'] = df_customers_ticket_date['datekey'].dt.week"
   ]
  },
  {
   "cell_type": "code",
   "execution_count": 1258,
   "metadata": {},
   "outputs": [
    {
     "data": {
      "text/html": [
       "<div>\n",
       "<style scoped>\n",
       "    .dataframe tbody tr th:only-of-type {\n",
       "        vertical-align: middle;\n",
       "    }\n",
       "\n",
       "    .dataframe tbody tr th {\n",
       "        vertical-align: top;\n",
       "    }\n",
       "\n",
       "    .dataframe thead th {\n",
       "        text-align: right;\n",
       "    }\n",
       "</style>\n",
       "<table border=\"1\" class=\"dataframe\">\n",
       "  <thead>\n",
       "    <tr style=\"text-align: right;\">\n",
       "      <th></th>\n",
       "      <th>datekey</th>\n",
       "      <th>ticketid</th>\n",
       "      <th>storeid</th>\n",
       "      <th>cardtype</th>\n",
       "      <th>customerid</th>\n",
       "      <th>week_number_of_year</th>\n",
       "    </tr>\n",
       "  </thead>\n",
       "  <tbody>\n",
       "    <tr>\n",
       "      <th>0</th>\n",
       "      <td>2019-02-01</td>\n",
       "      <td>10004503220190201744194</td>\n",
       "      <td>ES4503</td>\n",
       "      <td>DigitalCard</td>\n",
       "      <td>77340000013311992</td>\n",
       "      <td>5</td>\n",
       "    </tr>\n",
       "    <tr>\n",
       "      <th>1</th>\n",
       "      <td>2019-02-01</td>\n",
       "      <td>10004503520190201774912</td>\n",
       "      <td>ES4503</td>\n",
       "      <td>DigitalCard</td>\n",
       "      <td>77340000013409574</td>\n",
       "      <td>5</td>\n",
       "    </tr>\n",
       "    <tr>\n",
       "      <th>2</th>\n",
       "      <td>2019-02-01</td>\n",
       "      <td>1000450732019020114037</td>\n",
       "      <td>ES4507</td>\n",
       "      <td>DigitalCard</td>\n",
       "      <td>77340000011772214</td>\n",
       "      <td>5</td>\n",
       "    </tr>\n",
       "    <tr>\n",
       "      <th>3</th>\n",
       "      <td>2019-02-01</td>\n",
       "      <td>1000450762019020140789</td>\n",
       "      <td>ES4507</td>\n",
       "      <td>Mobile</td>\n",
       "      <td>77340000000542815</td>\n",
       "      <td>5</td>\n",
       "    </tr>\n",
       "    <tr>\n",
       "      <th>4</th>\n",
       "      <td>2019-02-01</td>\n",
       "      <td>10004504320190201330084</td>\n",
       "      <td>ES4504</td>\n",
       "      <td>Mobile</td>\n",
       "      <td>77340000013090638</td>\n",
       "      <td>5</td>\n",
       "    </tr>\n",
       "  </tbody>\n",
       "</table>\n",
       "</div>"
      ],
      "text/plain": [
       "     datekey                 ticketid storeid     cardtype         customerid  \\\n",
       "0 2019-02-01  10004503220190201744194  ES4503  DigitalCard  77340000013311992   \n",
       "1 2019-02-01  10004503520190201774912  ES4503  DigitalCard  77340000013409574   \n",
       "2 2019-02-01   1000450732019020114037  ES4507  DigitalCard  77340000011772214   \n",
       "3 2019-02-01   1000450762019020140789  ES4507       Mobile  77340000000542815   \n",
       "4 2019-02-01  10004504320190201330084  ES4504       Mobile  77340000013090638   \n",
       "\n",
       "   week_number_of_year  \n",
       "0                    5  \n",
       "1                    5  \n",
       "2                    5  \n",
       "3                    5  \n",
       "4                    5  "
      ]
     },
     "execution_count": 1258,
     "metadata": {},
     "output_type": "execute_result"
    }
   ],
   "source": [
    "df_customers_ticket_date.head()"
   ]
  },
  {
   "cell_type": "markdown",
   "metadata": {},
   "source": [
    "#### Cantidad de compras por semana del año"
   ]
  },
  {
   "cell_type": "code",
   "execution_count": 1259,
   "metadata": {},
   "outputs": [
    {
     "data": {
      "text/plain": [
       "11    8194\n",
       "12    7910\n",
       "1     6846\n",
       "2     6715\n",
       "5     6628\n",
       "9     6507\n",
       "8     6224\n",
       "13    4688\n",
       "10    4512\n",
       "3     3644\n",
       "7     2331\n",
       "4     2098\n",
       "6     1896\n",
       "Name: week_number_of_year, dtype: int64"
      ]
     },
     "execution_count": 1259,
     "metadata": {},
     "output_type": "execute_result"
    }
   ],
   "source": [
    "df_customers_ticket_date['week_number_of_year'].value_counts()"
   ]
  },
  {
   "cell_type": "markdown",
   "metadata": {},
   "source": [
    "#### Promedio de compra por usuario en cada semana del año"
   ]
  },
  {
   "cell_type": "code",
   "execution_count": 1260,
   "metadata": {},
   "outputs": [],
   "source": [
    "dF_tickets['datekey']=pd.to_datetime(dF_tickets['datekey'],format=\"%Y-%m-%d\")\n",
    "dF_tickets['week_number_of_year'] = dF_tickets['datekey'].dt.week\n",
    "dF_week=dF_tickets.groupby(['customerid','week_number_of_year'])['extendedamount'].sum()"
   ]
  },
  {
   "cell_type": "code",
   "execution_count": 1261,
   "metadata": {},
   "outputs": [
    {
     "data": {
      "text/html": [
       "<div>\n",
       "<style scoped>\n",
       "    .dataframe tbody tr th:only-of-type {\n",
       "        vertical-align: middle;\n",
       "    }\n",
       "\n",
       "    .dataframe tbody tr th {\n",
       "        vertical-align: top;\n",
       "    }\n",
       "\n",
       "    .dataframe thead th {\n",
       "        text-align: right;\n",
       "    }\n",
       "</style>\n",
       "<table border=\"1\" class=\"dataframe\">\n",
       "  <thead>\n",
       "    <tr style=\"text-align: right;\">\n",
       "      <th></th>\n",
       "      <th></th>\n",
       "      <th>extendedamount</th>\n",
       "    </tr>\n",
       "    <tr>\n",
       "      <th>customerid</th>\n",
       "      <th>week_number_of_year</th>\n",
       "      <th></th>\n",
       "    </tr>\n",
       "  </thead>\n",
       "  <tbody>\n",
       "    <tr>\n",
       "      <th rowspan=\"3\" valign=\"top\">77000000050003334</th>\n",
       "      <th>2</th>\n",
       "      <td>33.14</td>\n",
       "    </tr>\n",
       "    <tr>\n",
       "      <th>5</th>\n",
       "      <td>46.29</td>\n",
       "    </tr>\n",
       "    <tr>\n",
       "      <th>8</th>\n",
       "      <td>69.53</td>\n",
       "    </tr>\n",
       "    <tr>\n",
       "      <th>77000000050010221</th>\n",
       "      <th>9</th>\n",
       "      <td>33.30</td>\n",
       "    </tr>\n",
       "    <tr>\n",
       "      <th>77000000050012258</th>\n",
       "      <th>2</th>\n",
       "      <td>39.24</td>\n",
       "    </tr>\n",
       "  </tbody>\n",
       "</table>\n",
       "</div>"
      ],
      "text/plain": [
       "                                       extendedamount\n",
       "customerid        week_number_of_year                \n",
       "77000000050003334 2                             33.14\n",
       "                  5                             46.29\n",
       "                  8                             69.53\n",
       "77000000050010221 9                             33.30\n",
       "77000000050012258 2                             39.24"
      ]
     },
     "execution_count": 1261,
     "metadata": {},
     "output_type": "execute_result"
    }
   ],
   "source": [
    "dF_week=pd.DataFrame(dF_week)\n",
    "dF_week.head()"
   ]
  },
  {
   "cell_type": "code",
   "execution_count": 1262,
   "metadata": {},
   "outputs": [
    {
     "data": {
      "text/html": [
       "<div>\n",
       "<style scoped>\n",
       "    .dataframe tbody tr th:only-of-type {\n",
       "        vertical-align: middle;\n",
       "    }\n",
       "\n",
       "    .dataframe tbody tr th {\n",
       "        vertical-align: top;\n",
       "    }\n",
       "\n",
       "    .dataframe thead th {\n",
       "        text-align: right;\n",
       "    }\n",
       "</style>\n",
       "<table border=\"1\" class=\"dataframe\">\n",
       "  <thead>\n",
       "    <tr style=\"text-align: right;\">\n",
       "      <th>week_number_of_year</th>\n",
       "      <th>1</th>\n",
       "      <th>2</th>\n",
       "      <th>3</th>\n",
       "      <th>4</th>\n",
       "      <th>5</th>\n",
       "      <th>6</th>\n",
       "      <th>7</th>\n",
       "      <th>8</th>\n",
       "      <th>9</th>\n",
       "      <th>10</th>\n",
       "      <th>11</th>\n",
       "      <th>12</th>\n",
       "      <th>13</th>\n",
       "    </tr>\n",
       "    <tr>\n",
       "      <th>customerid</th>\n",
       "      <th></th>\n",
       "      <th></th>\n",
       "      <th></th>\n",
       "      <th></th>\n",
       "      <th></th>\n",
       "      <th></th>\n",
       "      <th></th>\n",
       "      <th></th>\n",
       "      <th></th>\n",
       "      <th></th>\n",
       "      <th></th>\n",
       "      <th></th>\n",
       "      <th></th>\n",
       "    </tr>\n",
       "  </thead>\n",
       "  <tbody>\n",
       "    <tr>\n",
       "      <th>77000000050003334</th>\n",
       "      <td>NaN</td>\n",
       "      <td>33.14</td>\n",
       "      <td>NaN</td>\n",
       "      <td>NaN</td>\n",
       "      <td>46.29</td>\n",
       "      <td>NaN</td>\n",
       "      <td>NaN</td>\n",
       "      <td>69.53</td>\n",
       "      <td>NaN</td>\n",
       "      <td>NaN</td>\n",
       "      <td>NaN</td>\n",
       "      <td>NaN</td>\n",
       "      <td>NaN</td>\n",
       "    </tr>\n",
       "    <tr>\n",
       "      <th>77000000050010221</th>\n",
       "      <td>NaN</td>\n",
       "      <td>NaN</td>\n",
       "      <td>NaN</td>\n",
       "      <td>NaN</td>\n",
       "      <td>NaN</td>\n",
       "      <td>NaN</td>\n",
       "      <td>NaN</td>\n",
       "      <td>NaN</td>\n",
       "      <td>33.3</td>\n",
       "      <td>NaN</td>\n",
       "      <td>NaN</td>\n",
       "      <td>NaN</td>\n",
       "      <td>NaN</td>\n",
       "    </tr>\n",
       "    <tr>\n",
       "      <th>77000000050012258</th>\n",
       "      <td>NaN</td>\n",
       "      <td>39.24</td>\n",
       "      <td>38.13</td>\n",
       "      <td>18.15</td>\n",
       "      <td>5.06</td>\n",
       "      <td>NaN</td>\n",
       "      <td>NaN</td>\n",
       "      <td>NaN</td>\n",
       "      <td>NaN</td>\n",
       "      <td>NaN</td>\n",
       "      <td>3.99</td>\n",
       "      <td>34.22</td>\n",
       "      <td>NaN</td>\n",
       "    </tr>\n",
       "    <tr>\n",
       "      <th>77000000050014586</th>\n",
       "      <td>NaN</td>\n",
       "      <td>NaN</td>\n",
       "      <td>NaN</td>\n",
       "      <td>2.37</td>\n",
       "      <td>13.63</td>\n",
       "      <td>NaN</td>\n",
       "      <td>NaN</td>\n",
       "      <td>NaN</td>\n",
       "      <td>22.7</td>\n",
       "      <td>NaN</td>\n",
       "      <td>5.90</td>\n",
       "      <td>15.19</td>\n",
       "      <td>NaN</td>\n",
       "    </tr>\n",
       "    <tr>\n",
       "      <th>77000000050014974</th>\n",
       "      <td>39.11</td>\n",
       "      <td>22.22</td>\n",
       "      <td>NaN</td>\n",
       "      <td>NaN</td>\n",
       "      <td>26.61</td>\n",
       "      <td>NaN</td>\n",
       "      <td>9.15</td>\n",
       "      <td>NaN</td>\n",
       "      <td>NaN</td>\n",
       "      <td>NaN</td>\n",
       "      <td>NaN</td>\n",
       "      <td>NaN</td>\n",
       "      <td>NaN</td>\n",
       "    </tr>\n",
       "  </tbody>\n",
       "</table>\n",
       "</div>"
      ],
      "text/plain": [
       "week_number_of_year     1      2      3      4      5   6     7      8     9   \\\n",
       "customerid                                                                      \n",
       "77000000050003334      NaN  33.14    NaN    NaN  46.29 NaN   NaN  69.53   NaN   \n",
       "77000000050010221      NaN    NaN    NaN    NaN    NaN NaN   NaN    NaN  33.3   \n",
       "77000000050012258      NaN  39.24  38.13  18.15   5.06 NaN   NaN    NaN   NaN   \n",
       "77000000050014586      NaN    NaN    NaN   2.37  13.63 NaN   NaN    NaN  22.7   \n",
       "77000000050014974    39.11  22.22    NaN    NaN  26.61 NaN  9.15    NaN   NaN   \n",
       "\n",
       "week_number_of_year  10    11     12  13  \n",
       "customerid                                \n",
       "77000000050003334   NaN   NaN    NaN NaN  \n",
       "77000000050010221   NaN   NaN    NaN NaN  \n",
       "77000000050012258   NaN  3.99  34.22 NaN  \n",
       "77000000050014586   NaN  5.90  15.19 NaN  \n",
       "77000000050014974   NaN   NaN    NaN NaN  "
      ]
     },
     "execution_count": 1262,
     "metadata": {},
     "output_type": "execute_result"
    }
   ],
   "source": [
    "dF_JR=dF_week.reset_index().pivot(index=\"customerid\", columns=\"week_number_of_year\", values=\"extendedamount\")\n",
    "dF_JR.head()"
   ]
  },
  {
   "cell_type": "code",
   "execution_count": 1263,
   "metadata": {},
   "outputs": [
    {
     "data": {
      "text/plain": [
       "customerid\n",
       "77000000050003334    49.653333\n",
       "77000000050010221    33.300000\n",
       "77000000050012258    23.131667\n",
       "77000000050014586    11.958000\n",
       "77000000050014974    24.272500\n",
       "Name: avg_compra, dtype: float64"
      ]
     },
     "execution_count": 1263,
     "metadata": {},
     "output_type": "execute_result"
    }
   ],
   "source": [
    "dF_JR[\"avg_compra\"]=dF_JR.mean(axis=1)\n",
    "dF_JR[\"avg_compra\"].head()"
   ]
  },
  {
   "cell_type": "code",
   "execution_count": 1264,
   "metadata": {},
   "outputs": [],
   "source": [
    "import matplotlib.pyplot as plt"
   ]
  },
  {
   "cell_type": "code",
   "execution_count": 1265,
   "metadata": {},
   "outputs": [
    {
     "data": {
      "image/png": "[encoded data removed]",
      "text/plain": [
       "<Figure size 1440x360 with 1 Axes>"
      ]
     },
     "metadata": {
      "needs_background": "light"
     },
     "output_type": "display_data"
    }
   ],
   "source": [
    "plt.rcParams['figure.figsize'] =[20, 5]\n",
    "plt.hist(dF_JR[\"avg_compra\"], bins='auto')\n",
    "plt.show()"
   ]
  },
  {
   "cell_type": "markdown",
   "metadata": {},
   "source": [
    "#### Frecuencia de compra por descripción del producto"
   ]
  },
  {
   "cell_type": "code",
   "execution_count": 1266,
   "metadata": {},
   "outputs": [
    {
     "data": {
      "text/plain": [
       "Pan gallego                    6333\n",
       "Fresas 500 g                   6199\n",
       "Barra de pan                   5771\n",
       "Yogur natural                  5222\n",
       "Baguette                       4992\n",
       "Pechuga de pavo                4991\n",
       "Huevos L suelo                 4164\n",
       "Chocolate negro                4118\n",
       "Garbanzos precocin             3945\n",
       "Leche semi                     3786\n",
       "Banana                         3754\n",
       "Delicias del mar               3421\n",
       "Bolsa papel grande             3408\n",
       "Yogur griego                   3305\n",
       "Leche entera                   3276\n",
       "Barra integral                 3202\n",
       "Yogur natural ecol             3163\n",
       "Galletas cookies               2998\n",
       "Huevos M suelo                 2985\n",
       "Aceituna anchoa s              2862\n",
       "Chocolate c/leche              2840\n",
       "Masa de hojaldre               2811\n",
       "Tomate frito                   2728\n",
       "PlÃ¡tano Canario FP            2718\n",
       "Croissant margarina            2688\n",
       "Galletas rel ch                2683\n",
       "Vino tinto                     2540\n",
       "Barra bocadillo                2521\n",
       "Zanahoria                      2482\n",
       "Palitos de mar                 2452\n",
       "                               ... \n",
       "Botines 37 beige 0287832          1\n",
       "Griferia lavabo 0307238           1\n",
       "Lomo embuchado lonch              1\n",
       "Cajas madera B 0298674            1\n",
       "Leggings 98-104 0301484           1\n",
       "TurrÃƒÂ³n de chocolat             1\n",
       "Ropa esquÃƒÂ­ C 158 0305143       1\n",
       "Perchas 0306893                   1\n",
       "Chaqueta vaquera 0308327          1\n",
       "Camiseta S blanc 0308331          1\n",
       "Tapa/asiento WC 0301836           1\n",
       "CinturÃ³n 125 gri 0305570         1\n",
       "Pijama 80 beige 0301559           1\n",
       "BÃƒÂ¡scula verde 0292102          1\n",
       "Camiseta 98/104 0293473           1\n",
       "Corrector surt.                   1\n",
       "Ud. Coca Cola 33cl                1\n",
       "CamisÃ³n 38 marin 0312224         1\n",
       "SÃ¡bana azul 0308212              1\n",
       "Bolsas castillo 0312779           1\n",
       "Sudadera 0312226                  1\n",
       "Pala/Azada/Escob 0305922          1\n",
       "Botines 37 gris 0287832           1\n",
       "Pijama hombre 0301137             1\n",
       "Risi Gusanitos ketch              1\n",
       "Chaqueta 40 verd 0301747          1\n",
       "Chaqueta XL negr 0305164          1\n",
       "Faja reductora 0308765            1\n",
       "SÃƒÂ¡bana granate 0308211         1\n",
       "Mousse merluza                    1\n",
       "Name: itemdescription, Length: 7801, dtype: int64"
      ]
     },
     "execution_count": 1266,
     "metadata": {},
     "output_type": "execute_result"
    }
   ],
   "source": [
    "dF_tickets[\"itemdescription\"].value_counts()"
   ]
  },
  {
   "cell_type": "markdown",
   "metadata": {},
   "source": [
    "#### Frecuencia de compra por categoria del producto"
   ]
  },
  {
   "cell_type": "code",
   "execution_count": 1267,
   "metadata": {},
   "outputs": [
    {
     "data": {
      "text/plain": [
       "VERDURAS/HORTALIZAS             272\n",
       "FRUTAS                          260\n",
       "CERVEZA                         253\n",
       "TINTO                           208\n",
       "FIAMBRE Y EMBUTIDOS             162\n",
       "SNACKS                           95\n",
       "GALLET.DULCES                    91\n",
       "CERDO                            85\n",
       "BLANCO                           84\n",
       "ARTICULOS  RESTO                 82\n",
       "CHOCOLATINAS&SNACKS              81\n",
       "REFRESCO CON GAS                 79\n",
       "CHAMPU                           75\n",
       "REST.PAST.BOLL.IND               74\n",
       "PASTELERIA/BOLLERIA GRANEL       73\n",
       "AVE                              72\n",
       "PAN TOSTADO                      67\n",
       "TABLETAS CHOCOLATE               66\n",
       "PAN FRESCO                       64\n",
       "RTO. QSO NATURAL                 59\n",
       "FRUTOS SECOS                     52\n",
       "GOLOSINAS                        49\n",
       "AGUA                             47\n",
       "VACUNO                           44\n",
       "TARRITOS/POUCH                   44\n",
       "GEL DE BANO Y DUCHA              43\n",
       "PATATAS FRITAS                   42\n",
       "DESODORANTES                     42\n",
       "CARAMELOS                        39\n",
       "OTRAS SALSAS                     39\n",
       "                               ... \n",
       "YOGHOURT LIQUIDO                  1\n",
       "DETERGENT.ESPECIALES              1\n",
       "LABIOS                            1\n",
       "YOGUR VEGETAL                     1\n",
       "VELA/PARCHE                       1\n",
       "ANTIMOSQUITOS ELECTRIC.           1\n",
       "SURIMI&GULAS                      1\n",
       "SUCEDANEOS                        1\n",
       "OTROS ARTICULOS                   1\n",
       "MASAS Y HOJALDRES                 1\n",
       "EDAM+GOUDA+BOLA                   1\n",
       "LIMPIA HORNO VITROCE.             1\n",
       "ASEO INTIMO                       1\n",
       "BASE PIZZA                        1\n",
       "SUELOS Y CERAS                    1\n",
       "WHISKY/BOURBON                    1\n",
       "MAIZ CONS.                        1\n",
       "ANCHOA/BOQUERON/BACALAO FRIO      1\n",
       "GUANTES USO DOMESTIC              1\n",
       "ANTICAL                           1\n",
       "LIMPIAMUEBLE                      1\n",
       "MOSQUITOS                         1\n",
       "JABON DE MANOS                    1\n",
       "ALCACHOFA CONS.                   1\n",
       "PROD.DE INCONTINENCIA             1\n",
       "LEJIA Y LEJIA CON DET             1\n",
       "JUDIAS CONS.                      1\n",
       "PAN RALLADO                       1\n",
       "TOMATE NATURAL                    1\n",
       "ESPINACAS CONG.                   1\n",
       "Name: categoryname, Length: 238, dtype: int64"
      ]
     },
     "execution_count": 1267,
     "metadata": {},
     "output_type": "execute_result"
    }
   ],
   "source": [
    "dF_products[\"categoryname\"].value_counts()"
   ]
  },
  {
   "cell_type": "markdown",
   "metadata": {},
   "source": [
    "#### Frecuencia de compra por familia del producto"
   ]
  },
  {
   "cell_type": "code",
   "execution_count": 1268,
   "metadata": {},
   "outputs": [
    {
     "data": {
      "text/plain": [
       "FRUTAS Y HORTALIZAS           531\n",
       "TOTAL VINOS                   332\n",
       "CERVEZA                       253\n",
       "CARNE FRESCA                  202\n",
       "CHOCOLATES Y CREMAS           189\n",
       "CHARCUTERIA                   182\n",
       "PROD.CORPORALES PERSO.        154\n",
       "PRODUCTOS CAPILARES           137\n",
       "PATATAS Y SNACKS              137\n",
       "BEBIDAS REFRESCANTES          135\n",
       "PANADERIA INDUSTRIAL          114\n",
       "CHICLES, CARAMELO, GOLOSI     110\n",
       "QUESO NATURAL                 101\n",
       "GALLETAS(DULCE/SAL)            93\n",
       "ARTICULOS  RESTO               82\n",
       "PASTEL.BOLLER.IND.             81\n",
       "PASTELERIA/BOLLERIA GRANEL     73\n",
       "SOPAS,CALDOS,PURE,P            72\n",
       "SALSAS                         70\n",
       "T.ALIMENTOS INFANTILS          65\n",
       "PAN FRESCO                     64\n",
       "FRUTOS SECOS&DESHIDRAT.        60\n",
       "CAFES/SUCEDANEOS               49\n",
       "YOGUR&LECHE FER                48\n",
       "AGUA                           47\n",
       "ZUMOS,NECTAR,MOSTO             45\n",
       "HIGIENE BUCAL                  41\n",
       "QUESO FRESCO                   40\n",
       "LECHE LIQUIDA                  36\n",
       "ALCOHOLICAS ALTA GRAD.         35\n",
       "                             ... \n",
       "UTILES DE LIMPIEZA              8\n",
       "PRODUCTOS NAVIDENOS             8\n",
       "MANTEQUILLA & MARGARINA         8\n",
       "ACEITUNAS                       8\n",
       "HARINAS                         7\n",
       "ENSALADAS Y VERDURAS PREP.      7\n",
       "QUESO CREMA                     6\n",
       "PLATOS ELABORADOS CONG.         6\n",
       "SONDERVERKAUF FOOD              6\n",
       "OTROS CONGELADOS                5\n",
       "QUESO FUNDIDO                   5\n",
       "VERDURAS/HORTALIZA CONG.        5\n",
       "COSMETICA DECORATIVA            5\n",
       "LEGUMBRES SECAS                 5\n",
       "QUESO FRESCO PETIT              3\n",
       "HORCHATAS                       3\n",
       "COLONIAS Y PERFUMES             3\n",
       "PET CARE                        2\n",
       "COMPLMENT.LAVAVAJILLA           2\n",
       "TOFU                            2\n",
       "YOGHOURT&LECHE FER              2\n",
       "ENCURTIDOS                      2\n",
       "OTRAS LECHES                    2\n",
       "COMPLEMENTO TRAT.ROPA           2\n",
       "AZUCAR/EDULCORANTE/SIROPE       2\n",
       "FRUTAS Y VERDURAS               1\n",
       "OTROS ARTICULOS                 1\n",
       "LEJIA Y LEJIA CON DET           1\n",
       "MOSQUITOS                       1\n",
       "MASAS Y HOJALDRES               1\n",
       "Name: familyname, Length: 100, dtype: int64"
      ]
     },
     "execution_count": 1268,
     "metadata": {},
     "output_type": "execute_result"
    }
   ],
   "source": [
    "dF_products[\"familyname\"].value_counts()"
   ]
  },
  {
   "cell_type": "markdown",
   "metadata": {},
   "source": [
    "#### Frecuencia de compra por descripción del producto "
   ]
  },
  {
   "cell_type": "code",
   "execution_count": 1269,
   "metadata": {},
   "outputs": [
    {
     "data": {
      "text/plain": [
       "Pan/BollerÃ­a/Golosinas/OTC    1593\n",
       "Bebidas                        1395\n",
       "Surtido NF                     1226\n",
       "F&V/Plantas y Flores           1088\n",
       "AlimentaciÃ³n                   915\n",
       "Fresco                          701\n",
       "Conservas                       341\n",
       "Pollo/Carne/Pescado             314\n",
       "Congelados                      154\n",
       "Name: hwgdescription, dtype: int64"
      ]
     },
     "execution_count": 1269,
     "metadata": {},
     "output_type": "execute_result"
    }
   ],
   "source": [
    "dF_products[\"hwgdescription\"].value_counts()"
   ]
  },
  {
   "cell_type": "markdown",
   "metadata": {},
   "source": [
    "#### Frecuencia de compra por sección del producto"
   ]
  },
  {
   "cell_type": "code",
   "execution_count": 1270,
   "metadata": {},
   "outputs": [
    {
     "data": {
      "text/plain": [
       "ALIMENTACION SECA             1189\n",
       "FRESCOS PERECEDEROS           1028\n",
       "BEBIDAS                        867\n",
       "PERFUMERIA E HIGIENE           388\n",
       "QUESOS                         154\n",
       "DROGUERIA                      144\n",
       "CONSERVAS                      127\n",
       "PRODUCTOS PARA BEBE            121\n",
       "ARTICULOS  RESTO                82\n",
       "CONGELADOS                      76\n",
       "DERIVADOS LACTEOS               74\n",
       "PASTELERIA/BOLLERIA GRANEL      73\n",
       "LECHES Y BATIDOS                63\n",
       "PLATOS COCINADOS                52\n",
       "OTC                             15\n",
       "PET CARE AND FOOD               11\n",
       "FOOD TS                          6\n",
       "FIRST AIDS                       1\n",
       "Name: sectionname, dtype: int64"
      ]
     },
     "execution_count": 1270,
     "metadata": {},
     "output_type": "execute_result"
    }
   ],
   "source": [
    "dF_products[\"sectionname\"].value_counts()"
   ]
  },
  {
   "cell_type": "markdown",
   "metadata": {},
   "source": [
    "#### Frecuencia de cada medio de pago en el total de compras"
   ]
  },
  {
   "cell_type": "code",
   "execution_count": 1271,
   "metadata": {},
   "outputs": [
    {
     "data": {
      "text/plain": [
       "DigitalCard    55770\n",
       "Mobile         11463\n",
       "PaymentCard      859\n",
       "Wallet           101\n",
       "Name: cardtype, dtype: int64"
      ]
     },
     "execution_count": 1271,
     "metadata": {},
     "output_type": "execute_result"
    }
   ],
   "source": [
    "df_customers_ticket_date[\"cardtype\"].value_counts()"
   ]
  },
  {
   "cell_type": "code",
   "execution_count": 1272,
   "metadata": {},
   "outputs": [
    {
     "data": {
      "text/plain": [
       "<matplotlib.legend.Legend at 0x12fa53ac8>"
      ]
     },
     "execution_count": 1272,
     "metadata": {},
     "output_type": "execute_result"
    },
    {
     "data": {
      "image/png": "[encoded data removed]",
      "text/plain": [
       "<Figure size 720x720 with 1 Axes>"
      ]
     },
     "metadata": {},
     "output_type": "display_data"
    }
   ],
   "source": [
    "df_tickets_pay_method = df_customers_ticket_date[\"cardtype\"].value_counts()\n",
    "df_tickets_pay_method = df_tickets_pay_method / df_tickets_pay_method.sum()\n",
    "plt.figure(figsize = (10, 10))\n",
    "plt.pie(df_tickets_pay_method, labels = df_tickets_pay_method.index, autopct='%1.1f%%')\n",
    "plt.title('Tickets según el método de pago', bbox={\"facecolor\":\"0.8\", \"pad\":5})\n",
    "plt.legend()"
   ]
  },
  {
   "cell_type": "markdown",
   "metadata": {},
   "source": [
    "#### Frecuencia de generos en el total de compra"
   ]
  },
  {
   "cell_type": "code",
   "execution_count": 1273,
   "metadata": {},
   "outputs": [
    {
     "data": {
      "text/plain": [
       "(68193, 13)"
      ]
     },
     "execution_count": 1273,
     "metadata": {},
     "output_type": "execute_result"
    }
   ],
   "source": [
    "df_tickets_customers= df_customers_ticket_date.merge(dF_customers, on=\"customerid\", how = 'left')\n",
    "df_tickets_customers.shape"
   ]
  },
  {
   "cell_type": "code",
   "execution_count": 1274,
   "metadata": {},
   "outputs": [
    {
     "data": {
      "text/html": [
       "<div>\n",
       "<style scoped>\n",
       "    .dataframe tbody tr th:only-of-type {\n",
       "        vertical-align: middle;\n",
       "    }\n",
       "\n",
       "    .dataframe tbody tr th {\n",
       "        vertical-align: top;\n",
       "    }\n",
       "\n",
       "    .dataframe thead th {\n",
       "        text-align: right;\n",
       "    }\n",
       "</style>\n",
       "<table border=\"1\" class=\"dataframe\">\n",
       "  <thead>\n",
       "    <tr style=\"text-align: right;\">\n",
       "      <th></th>\n",
       "      <th>datekey</th>\n",
       "      <th>ticketid</th>\n",
       "      <th>storeid</th>\n",
       "      <th>cardtype</th>\n",
       "      <th>customerid</th>\n",
       "      <th>week_number_of_year</th>\n",
       "      <th>isocountrycode</th>\n",
       "      <th>regularstoreid</th>\n",
       "      <th>registrationdate</th>\n",
       "      <th>unregistrationdate</th>\n",
       "      <th>gender</th>\n",
       "      <th>age</th>\n",
       "      <th>zipcode</th>\n",
       "    </tr>\n",
       "  </thead>\n",
       "  <tbody>\n",
       "    <tr>\n",
       "      <th>0</th>\n",
       "      <td>2019-02-01</td>\n",
       "      <td>10004503220190201744194</td>\n",
       "      <td>ES4503</td>\n",
       "      <td>DigitalCard</td>\n",
       "      <td>77340000013311992</td>\n",
       "      <td>5</td>\n",
       "      <td>ES</td>\n",
       "      <td>ES4503</td>\n",
       "      <td>2017-06-24</td>\n",
       "      <td>NaN</td>\n",
       "      <td>F</td>\n",
       "      <td>44.0</td>\n",
       "      <td>50740</td>\n",
       "    </tr>\n",
       "    <tr>\n",
       "      <th>1</th>\n",
       "      <td>2019-02-01</td>\n",
       "      <td>10004503520190201774912</td>\n",
       "      <td>ES4503</td>\n",
       "      <td>DigitalCard</td>\n",
       "      <td>77340000013409574</td>\n",
       "      <td>5</td>\n",
       "      <td>ES</td>\n",
       "      <td>ES4503</td>\n",
       "      <td>2017-07-02</td>\n",
       "      <td>NaN</td>\n",
       "      <td>F</td>\n",
       "      <td>36.0</td>\n",
       "      <td>50021</td>\n",
       "    </tr>\n",
       "    <tr>\n",
       "      <th>2</th>\n",
       "      <td>2019-02-01</td>\n",
       "      <td>1000450732019020114037</td>\n",
       "      <td>ES4507</td>\n",
       "      <td>DigitalCard</td>\n",
       "      <td>77340000011772214</td>\n",
       "      <td>5</td>\n",
       "      <td>ES</td>\n",
       "      <td>ES0263</td>\n",
       "      <td>2017-01-19</td>\n",
       "      <td>NaN</td>\n",
       "      <td>NaN</td>\n",
       "      <td>NaN</td>\n",
       "      <td>NaN</td>\n",
       "    </tr>\n",
       "    <tr>\n",
       "      <th>3</th>\n",
       "      <td>2019-02-01</td>\n",
       "      <td>1000450762019020140789</td>\n",
       "      <td>ES4507</td>\n",
       "      <td>Mobile</td>\n",
       "      <td>77340000000542815</td>\n",
       "      <td>5</td>\n",
       "      <td>ES</td>\n",
       "      <td>ES4507</td>\n",
       "      <td>2016-01-13</td>\n",
       "      <td>NaN</td>\n",
       "      <td>F</td>\n",
       "      <td>36.0</td>\n",
       "      <td>50016</td>\n",
       "    </tr>\n",
       "    <tr>\n",
       "      <th>4</th>\n",
       "      <td>2019-02-01</td>\n",
       "      <td>10004504320190201330084</td>\n",
       "      <td>ES4504</td>\n",
       "      <td>Mobile</td>\n",
       "      <td>77340000013090638</td>\n",
       "      <td>5</td>\n",
       "      <td>ES</td>\n",
       "      <td>ES4504</td>\n",
       "      <td>2017-06-04</td>\n",
       "      <td>NaN</td>\n",
       "      <td>M</td>\n",
       "      <td>53.0</td>\n",
       "      <td>50015</td>\n",
       "    </tr>\n",
       "  </tbody>\n",
       "</table>\n",
       "</div>"
      ],
      "text/plain": [
       "     datekey                 ticketid storeid     cardtype         customerid  \\\n",
       "0 2019-02-01  10004503220190201744194  ES4503  DigitalCard  77340000013311992   \n",
       "1 2019-02-01  10004503520190201774912  ES4503  DigitalCard  77340000013409574   \n",
       "2 2019-02-01   1000450732019020114037  ES4507  DigitalCard  77340000011772214   \n",
       "3 2019-02-01   1000450762019020140789  ES4507       Mobile  77340000000542815   \n",
       "4 2019-02-01  10004504320190201330084  ES4504       Mobile  77340000013090638   \n",
       "\n",
       "   week_number_of_year isocountrycode regularstoreid registrationdate  \\\n",
       "0                    5             ES         ES4503       2017-06-24   \n",
       "1                    5             ES         ES4503       2017-07-02   \n",
       "2                    5             ES         ES0263       2017-01-19   \n",
       "3                    5             ES         ES4507       2016-01-13   \n",
       "4                    5             ES         ES4504       2017-06-04   \n",
       "\n",
       "  unregistrationdate gender   age zipcode  \n",
       "0                NaN      F  44.0   50740  \n",
       "1                NaN      F  36.0   50021  \n",
       "2                NaN    NaN   NaN     NaN  \n",
       "3                NaN      F  36.0   50016  \n",
       "4                NaN      M  53.0   50015  "
      ]
     },
     "execution_count": 1274,
     "metadata": {},
     "output_type": "execute_result"
    }
   ],
   "source": [
    "df_tickets_customers.head()"
   ]
  },
  {
   "cell_type": "markdown",
   "metadata": {},
   "source": [
    "### Se conoce el género del cliente unicamente en el 68.9% de las compras (46.999) "
   ]
  },
  {
   "cell_type": "code",
   "execution_count": 1275,
   "metadata": {},
   "outputs": [
    {
     "data": {
      "text/plain": [
       "gender\n",
       "0       10\n",
       "1       43\n",
       "2      127\n",
       "F    30527\n",
       "M    16292\n",
       "Name: ticketid, dtype: int64"
      ]
     },
     "execution_count": 1275,
     "metadata": {},
     "output_type": "execute_result"
    }
   ],
   "source": [
    "df_tickets_customers_gender= df_tickets_customers.groupby(['gender'])['ticketid'].count()\n",
    "df_tickets_customers_gender.head()"
   ]
  },
  {
   "cell_type": "code",
   "execution_count": 1276,
   "metadata": {},
   "outputs": [
    {
     "data": {
      "text/plain": [
       "<matplotlib.legend.Legend at 0x12a165f98>"
      ]
     },
     "execution_count": 1276,
     "metadata": {},
     "output_type": "execute_result"
    },
    {
     "data": {
      "image/png": "[encoded data removed]",
      "text/plain": [
       "<Figure size 720x720 with 1 Axes>"
      ]
     },
     "metadata": {},
     "output_type": "display_data"
    }
   ],
   "source": [
    "df_tickets_customers_gender = df_tickets_customers.groupby(['gender'])['ticketid'].count()\n",
    "plt.figure(figsize = (10, 10))\n",
    "plt.pie(df_tickets_customers_gender, labels = df_tickets_customers_gender.index, autopct='%1.1f%%')\n",
    "plt.title('Frecuencia de género', bbox={\"facecolor\":\"0.8\", \"pad\":5})\n",
    "plt.legend()"
   ]
  },
  {
   "cell_type": "code",
   "execution_count": 1277,
   "metadata": {},
   "outputs": [
    {
     "data": {
      "text/plain": [
       "<matplotlib.axes._subplots.AxesSubplot at 0x12fa7e1d0>"
      ]
     },
     "execution_count": 1277,
     "metadata": {},
     "output_type": "execute_result"
    },
    {
     "data": {
      "image/png": "[encoded data removed]",
      "text/plain": [
       "<Figure size 1440x720 with 1 Axes>"
      ]
     },
     "metadata": {
      "needs_background": "light"
     },
     "output_type": "display_data"
    }
   ],
   "source": [
    "plt.rcParams['figure.figsize'] =[20, 10]\n",
    "plt.title('Tickets según el género del cliente', bbox={\"facecolor\":\"0.8\", \"pad\":5})\n",
    "pd.value_counts(df_tickets_customers['gender']).plot.bar()"
   ]
  },
  {
   "cell_type": "markdown",
   "metadata": {},
   "source": [
    "### Cantidad de compras realizadas según la edad del cliente"
   ]
  },
  {
   "cell_type": "code",
   "execution_count": 1278,
   "metadata": {},
   "outputs": [
    {
     "data": {
      "text/plain": [
       "<matplotlib.axes._subplots.AxesSubplot at 0x12f68e518>"
      ]
     },
     "execution_count": 1278,
     "metadata": {},
     "output_type": "execute_result"
    },
    {
     "data": {
      "image/png": "[encoded data removed]",
      "text/plain": [
       "<Figure size 1440x720 with 1 Axes>"
      ]
     },
     "metadata": {
      "needs_background": "light"
     },
     "output_type": "display_data"
    }
   ],
   "source": [
    "plt.rcParams['figure.figsize'] =[20, 10]\n",
    "plt.title('Tickets según la edad del cliente', bbox={\"facecolor\":\"0.8\", \"pad\":5})\n",
    "pd.value_counts(df_tickets_customers['age']).sort_index().plot.bar()"
   ]
  },
  {
   "cell_type": "code",
   "execution_count": 1279,
   "metadata": {},
   "outputs": [],
   "source": [
    "import datetime as dt"
   ]
  },
  {
   "cell_type": "code",
   "execution_count": 1280,
   "metadata": {},
   "outputs": [
    {
     "data": {
      "text/html": [
       "<div>\n",
       "<style scoped>\n",
       "    .dataframe tbody tr th:only-of-type {\n",
       "        vertical-align: middle;\n",
       "    }\n",
       "\n",
       "    .dataframe tbody tr th {\n",
       "        vertical-align: top;\n",
       "    }\n",
       "\n",
       "    .dataframe thead th {\n",
       "        text-align: right;\n",
       "    }\n",
       "</style>\n",
       "<table border=\"1\" class=\"dataframe\">\n",
       "  <thead>\n",
       "    <tr style=\"text-align: right;\">\n",
       "      <th></th>\n",
       "      <th>datekey</th>\n",
       "      <th>ticketid</th>\n",
       "      <th>storeid</th>\n",
       "      <th>cardtype</th>\n",
       "      <th>customerid</th>\n",
       "      <th>week_number_of_year</th>\n",
       "      <th>isocountrycode</th>\n",
       "      <th>regularstoreid</th>\n",
       "      <th>registrationdate</th>\n",
       "      <th>unregistrationdate</th>\n",
       "      <th>gender</th>\n",
       "      <th>age</th>\n",
       "      <th>zipcode</th>\n",
       "      <th>weekday</th>\n",
       "    </tr>\n",
       "  </thead>\n",
       "  <tbody>\n",
       "    <tr>\n",
       "      <th>0</th>\n",
       "      <td>2019-02-01</td>\n",
       "      <td>10004503220190201744194</td>\n",
       "      <td>ES4503</td>\n",
       "      <td>DigitalCard</td>\n",
       "      <td>77340000013311992</td>\n",
       "      <td>5</td>\n",
       "      <td>ES</td>\n",
       "      <td>ES4503</td>\n",
       "      <td>2017-06-24</td>\n",
       "      <td>NaN</td>\n",
       "      <td>F</td>\n",
       "      <td>44.0</td>\n",
       "      <td>50740</td>\n",
       "      <td>Friday</td>\n",
       "    </tr>\n",
       "    <tr>\n",
       "      <th>1</th>\n",
       "      <td>2019-02-01</td>\n",
       "      <td>10004503520190201774912</td>\n",
       "      <td>ES4503</td>\n",
       "      <td>DigitalCard</td>\n",
       "      <td>77340000013409574</td>\n",
       "      <td>5</td>\n",
       "      <td>ES</td>\n",
       "      <td>ES4503</td>\n",
       "      <td>2017-07-02</td>\n",
       "      <td>NaN</td>\n",
       "      <td>F</td>\n",
       "      <td>36.0</td>\n",
       "      <td>50021</td>\n",
       "      <td>Friday</td>\n",
       "    </tr>\n",
       "    <tr>\n",
       "      <th>2</th>\n",
       "      <td>2019-02-01</td>\n",
       "      <td>1000450732019020114037</td>\n",
       "      <td>ES4507</td>\n",
       "      <td>DigitalCard</td>\n",
       "      <td>77340000011772214</td>\n",
       "      <td>5</td>\n",
       "      <td>ES</td>\n",
       "      <td>ES0263</td>\n",
       "      <td>2017-01-19</td>\n",
       "      <td>NaN</td>\n",
       "      <td>NaN</td>\n",
       "      <td>NaN</td>\n",
       "      <td>NaN</td>\n",
       "      <td>Friday</td>\n",
       "    </tr>\n",
       "    <tr>\n",
       "      <th>3</th>\n",
       "      <td>2019-02-01</td>\n",
       "      <td>1000450762019020140789</td>\n",
       "      <td>ES4507</td>\n",
       "      <td>Mobile</td>\n",
       "      <td>77340000000542815</td>\n",
       "      <td>5</td>\n",
       "      <td>ES</td>\n",
       "      <td>ES4507</td>\n",
       "      <td>2016-01-13</td>\n",
       "      <td>NaN</td>\n",
       "      <td>F</td>\n",
       "      <td>36.0</td>\n",
       "      <td>50016</td>\n",
       "      <td>Friday</td>\n",
       "    </tr>\n",
       "    <tr>\n",
       "      <th>4</th>\n",
       "      <td>2019-02-01</td>\n",
       "      <td>10004504320190201330084</td>\n",
       "      <td>ES4504</td>\n",
       "      <td>Mobile</td>\n",
       "      <td>77340000013090638</td>\n",
       "      <td>5</td>\n",
       "      <td>ES</td>\n",
       "      <td>ES4504</td>\n",
       "      <td>2017-06-04</td>\n",
       "      <td>NaN</td>\n",
       "      <td>M</td>\n",
       "      <td>53.0</td>\n",
       "      <td>50015</td>\n",
       "      <td>Friday</td>\n",
       "    </tr>\n",
       "  </tbody>\n",
       "</table>\n",
       "</div>"
      ],
      "text/plain": [
       "     datekey                 ticketid storeid     cardtype         customerid  \\\n",
       "0 2019-02-01  10004503220190201744194  ES4503  DigitalCard  77340000013311992   \n",
       "1 2019-02-01  10004503520190201774912  ES4503  DigitalCard  77340000013409574   \n",
       "2 2019-02-01   1000450732019020114037  ES4507  DigitalCard  77340000011772214   \n",
       "3 2019-02-01   1000450762019020140789  ES4507       Mobile  77340000000542815   \n",
       "4 2019-02-01  10004504320190201330084  ES4504       Mobile  77340000013090638   \n",
       "\n",
       "   week_number_of_year isocountrycode regularstoreid registrationdate  \\\n",
       "0                    5             ES         ES4503       2017-06-24   \n",
       "1                    5             ES         ES4503       2017-07-02   \n",
       "2                    5             ES         ES0263       2017-01-19   \n",
       "3                    5             ES         ES4507       2016-01-13   \n",
       "4                    5             ES         ES4504       2017-06-04   \n",
       "\n",
       "  unregistrationdate gender   age zipcode weekday  \n",
       "0                NaN      F  44.0   50740  Friday  \n",
       "1                NaN      F  36.0   50021  Friday  \n",
       "2                NaN    NaN   NaN     NaN  Friday  \n",
       "3                NaN      F  36.0   50016  Friday  \n",
       "4                NaN      M  53.0   50015  Friday  "
      ]
     },
     "execution_count": 1280,
     "metadata": {},
     "output_type": "execute_result"
    }
   ],
   "source": [
    "df_tickets_customers['weekday'] = df_tickets_customers['datekey'].apply(lambda x: dt.datetime.strftime(x, '%A'))\n",
    "df_tickets_customers.head()"
   ]
  },
  {
   "cell_type": "markdown",
   "metadata": {},
   "source": [
    "## DÍAS DE LA SEMANA CON MÁS FRECUENCIA DE COMPRA"
   ]
  },
  {
   "cell_type": "markdown",
   "metadata": {},
   "source": [
    "### Se observa que los días jueves hay mas ventas\n",
    "\n",
    "#### No hay compras los días miércoles ni domingos\n",
    "\n",
    "#### El día martes es el día con menor ventas"
   ]
  },
  {
   "cell_type": "code",
   "execution_count": 1281,
   "metadata": {},
   "outputs": [
    {
     "data": {
      "text/plain": [
       "<matplotlib.axes._subplots.AxesSubplot at 0x12fac39e8>"
      ]
     },
     "execution_count": 1281,
     "metadata": {},
     "output_type": "execute_result"
    },
    {
     "data": {
      "image/png": "[encoded data removed]",
      "text/plain": [
       "<Figure size 1440x504 with 1 Axes>"
      ]
     },
     "metadata": {
      "needs_background": "light"
     },
     "output_type": "display_data"
    }
   ],
   "source": [
    "plt.rcParams['figure.figsize'] =[20, 7]\n",
    "pd.value_counts(df_tickets_customers['weekday']).plot.bar()"
   ]
  },
  {
   "cell_type": "markdown",
   "metadata": {},
   "source": [
    "## GÉNEROS CON MÁS FRECUENCIA DE COMPRA POR DÍAS DE LA SEMANA"
   ]
  },
  {
   "cell_type": "markdown",
   "metadata": {},
   "source": [
    "### Se puede observar que las mujeres realizan más compras sin importar el día de la semana"
   ]
  },
  {
   "cell_type": "code",
   "execution_count": 1282,
   "metadata": {},
   "outputs": [
    {
     "data": {
      "text/plain": [
       "<matplotlib.axes._subplots.AxesSubplot at 0x13433c438>"
      ]
     },
     "execution_count": 1282,
     "metadata": {},
     "output_type": "execute_result"
    },
    {
     "data": {
      "image/png": "[encoded data removed]",
      "text/plain": [
       "<Figure size 1440x504 with 1 Axes>"
      ]
     },
     "metadata": {
      "needs_background": "light"
     },
     "output_type": "display_data"
    }
   ],
   "source": [
    "import seaborn as sns\n",
    "df_tickets_customers.groupby(['weekday','gender'])['customerid'].count().unstack().reset_index()\\\n",
    ".plot.bar(x = 'weekday', y = ['0', '1','2','F','M'])"
   ]
  },
  {
   "cell_type": "markdown",
   "metadata": {},
   "source": [
    "## EDADES CON MÁS FRECUENCIA DE COMPRA POR DÍAS DE LA SEMANA"
   ]
  },
  {
   "cell_type": "markdown",
   "metadata": {},
   "source": [
    "### Se conoce la edad del cliente únicamente en el 68.9% de las compras (47.023) "
   ]
  },
  {
   "cell_type": "code",
   "execution_count": 1283,
   "metadata": {},
   "outputs": [
    {
     "data": {
      "text/plain": [
       "(68193,)"
      ]
     },
     "execution_count": 1283,
     "metadata": {},
     "output_type": "execute_result"
    }
   ],
   "source": [
    "df_tickets_customers['age'].shape"
   ]
  },
  {
   "cell_type": "code",
   "execution_count": 1284,
   "metadata": {},
   "outputs": [
    {
     "data": {
      "text/plain": [
       "(47023,)"
      ]
     },
     "execution_count": 1284,
     "metadata": {},
     "output_type": "execute_result"
    }
   ],
   "source": [
    "df_ages= df_tickets_customers.dropna(subset=['age'])  \n",
    "df_ages['age'].shape"
   ]
  },
  {
   "cell_type": "code",
   "execution_count": 1285,
   "metadata": {},
   "outputs": [
    {
     "data": {
      "text/html": [
       "<div>\n",
       "<style scoped>\n",
       "    .dataframe tbody tr th:only-of-type {\n",
       "        vertical-align: middle;\n",
       "    }\n",
       "\n",
       "    .dataframe tbody tr th {\n",
       "        vertical-align: top;\n",
       "    }\n",
       "\n",
       "    .dataframe thead th {\n",
       "        text-align: right;\n",
       "    }\n",
       "</style>\n",
       "<table border=\"1\" class=\"dataframe\">\n",
       "  <thead>\n",
       "    <tr style=\"text-align: right;\">\n",
       "      <th></th>\n",
       "      <th>datekey</th>\n",
       "      <th>ticketid</th>\n",
       "      <th>storeid</th>\n",
       "      <th>cardtype</th>\n",
       "      <th>customerid</th>\n",
       "      <th>week_number_of_year</th>\n",
       "      <th>isocountrycode</th>\n",
       "      <th>regularstoreid</th>\n",
       "      <th>registrationdate</th>\n",
       "      <th>unregistrationdate</th>\n",
       "      <th>gender</th>\n",
       "      <th>age</th>\n",
       "      <th>zipcode</th>\n",
       "      <th>weekday</th>\n",
       "    </tr>\n",
       "  </thead>\n",
       "  <tbody>\n",
       "    <tr>\n",
       "      <th>0</th>\n",
       "      <td>2019-02-01</td>\n",
       "      <td>10004503220190201744194</td>\n",
       "      <td>ES4503</td>\n",
       "      <td>DigitalCard</td>\n",
       "      <td>77340000013311992</td>\n",
       "      <td>5</td>\n",
       "      <td>ES</td>\n",
       "      <td>ES4503</td>\n",
       "      <td>2017-06-24</td>\n",
       "      <td>NaN</td>\n",
       "      <td>F</td>\n",
       "      <td>44.0</td>\n",
       "      <td>50740</td>\n",
       "      <td>Friday</td>\n",
       "    </tr>\n",
       "    <tr>\n",
       "      <th>1</th>\n",
       "      <td>2019-02-01</td>\n",
       "      <td>10004503520190201774912</td>\n",
       "      <td>ES4503</td>\n",
       "      <td>DigitalCard</td>\n",
       "      <td>77340000013409574</td>\n",
       "      <td>5</td>\n",
       "      <td>ES</td>\n",
       "      <td>ES4503</td>\n",
       "      <td>2017-07-02</td>\n",
       "      <td>NaN</td>\n",
       "      <td>F</td>\n",
       "      <td>36.0</td>\n",
       "      <td>50021</td>\n",
       "      <td>Friday</td>\n",
       "    </tr>\n",
       "    <tr>\n",
       "      <th>2</th>\n",
       "      <td>2019-02-01</td>\n",
       "      <td>1000450732019020114037</td>\n",
       "      <td>ES4507</td>\n",
       "      <td>DigitalCard</td>\n",
       "      <td>77340000011772214</td>\n",
       "      <td>5</td>\n",
       "      <td>ES</td>\n",
       "      <td>ES0263</td>\n",
       "      <td>2017-01-19</td>\n",
       "      <td>NaN</td>\n",
       "      <td>NaN</td>\n",
       "      <td>NaN</td>\n",
       "      <td>NaN</td>\n",
       "      <td>Friday</td>\n",
       "    </tr>\n",
       "    <tr>\n",
       "      <th>3</th>\n",
       "      <td>2019-02-01</td>\n",
       "      <td>1000450762019020140789</td>\n",
       "      <td>ES4507</td>\n",
       "      <td>Mobile</td>\n",
       "      <td>77340000000542815</td>\n",
       "      <td>5</td>\n",
       "      <td>ES</td>\n",
       "      <td>ES4507</td>\n",
       "      <td>2016-01-13</td>\n",
       "      <td>NaN</td>\n",
       "      <td>F</td>\n",
       "      <td>36.0</td>\n",
       "      <td>50016</td>\n",
       "      <td>Friday</td>\n",
       "    </tr>\n",
       "    <tr>\n",
       "      <th>4</th>\n",
       "      <td>2019-02-01</td>\n",
       "      <td>10004504320190201330084</td>\n",
       "      <td>ES4504</td>\n",
       "      <td>Mobile</td>\n",
       "      <td>77340000013090638</td>\n",
       "      <td>5</td>\n",
       "      <td>ES</td>\n",
       "      <td>ES4504</td>\n",
       "      <td>2017-06-04</td>\n",
       "      <td>NaN</td>\n",
       "      <td>M</td>\n",
       "      <td>53.0</td>\n",
       "      <td>50015</td>\n",
       "      <td>Friday</td>\n",
       "    </tr>\n",
       "  </tbody>\n",
       "</table>\n",
       "</div>"
      ],
      "text/plain": [
       "     datekey                 ticketid storeid     cardtype         customerid  \\\n",
       "0 2019-02-01  10004503220190201744194  ES4503  DigitalCard  77340000013311992   \n",
       "1 2019-02-01  10004503520190201774912  ES4503  DigitalCard  77340000013409574   \n",
       "2 2019-02-01   1000450732019020114037  ES4507  DigitalCard  77340000011772214   \n",
       "3 2019-02-01   1000450762019020140789  ES4507       Mobile  77340000000542815   \n",
       "4 2019-02-01  10004504320190201330084  ES4504       Mobile  77340000013090638   \n",
       "\n",
       "   week_number_of_year isocountrycode regularstoreid registrationdate  \\\n",
       "0                    5             ES         ES4503       2017-06-24   \n",
       "1                    5             ES         ES4503       2017-07-02   \n",
       "2                    5             ES         ES0263       2017-01-19   \n",
       "3                    5             ES         ES4507       2016-01-13   \n",
       "4                    5             ES         ES4504       2017-06-04   \n",
       "\n",
       "  unregistrationdate gender   age zipcode weekday  \n",
       "0                NaN      F  44.0   50740  Friday  \n",
       "1                NaN      F  36.0   50021  Friday  \n",
       "2                NaN    NaN   NaN     NaN  Friday  \n",
       "3                NaN      F  36.0   50016  Friday  \n",
       "4                NaN      M  53.0   50015  Friday  "
      ]
     },
     "execution_count": 1285,
     "metadata": {},
     "output_type": "execute_result"
    }
   ],
   "source": [
    "df_tickets_customers.head()"
   ]
  },
  {
   "cell_type": "code",
   "execution_count": 1286,
   "metadata": {},
   "outputs": [
    {
     "name": "stderr",
     "output_type": "stream",
     "text": [
      "/Users/karen.barreto/anaconda3/lib/python3.7/site-packages/ipykernel_launcher.py:28: SettingWithCopyWarning: \n",
      "A value is trying to be set on a copy of a slice from a DataFrame.\n",
      "Try using .loc[row_indexer,col_indexer] = value instead\n",
      "\n",
      "See the caveats in the documentation: http://pandas.pydata.org/pandas-docs/stable/indexing.html#indexing-view-versus-copy\n"
     ]
    },
    {
     "data": {
      "text/html": [
       "<div>\n",
       "<style scoped>\n",
       "    .dataframe tbody tr th:only-of-type {\n",
       "        vertical-align: middle;\n",
       "    }\n",
       "\n",
       "    .dataframe tbody tr th {\n",
       "        vertical-align: top;\n",
       "    }\n",
       "\n",
       "    .dataframe thead th {\n",
       "        text-align: right;\n",
       "    }\n",
       "</style>\n",
       "<table border=\"1\" class=\"dataframe\">\n",
       "  <thead>\n",
       "    <tr style=\"text-align: right;\">\n",
       "      <th></th>\n",
       "      <th>datekey</th>\n",
       "      <th>ticketid</th>\n",
       "      <th>storeid</th>\n",
       "      <th>cardtype</th>\n",
       "      <th>customerid</th>\n",
       "      <th>week_number_of_year</th>\n",
       "      <th>isocountrycode</th>\n",
       "      <th>regularstoreid</th>\n",
       "      <th>registrationdate</th>\n",
       "      <th>unregistrationdate</th>\n",
       "      <th>gender</th>\n",
       "      <th>age</th>\n",
       "      <th>zipcode</th>\n",
       "      <th>weekday</th>\n",
       "    </tr>\n",
       "  </thead>\n",
       "  <tbody>\n",
       "    <tr>\n",
       "      <th>0</th>\n",
       "      <td>2019-02-01</td>\n",
       "      <td>10004503220190201744194</td>\n",
       "      <td>ES4503</td>\n",
       "      <td>DigitalCard</td>\n",
       "      <td>77340000013311992</td>\n",
       "      <td>5</td>\n",
       "      <td>ES</td>\n",
       "      <td>ES4503</td>\n",
       "      <td>2017-06-24</td>\n",
       "      <td>NaN</td>\n",
       "      <td>F</td>\n",
       "      <td>3</td>\n",
       "      <td>50740</td>\n",
       "      <td>Friday</td>\n",
       "    </tr>\n",
       "    <tr>\n",
       "      <th>1</th>\n",
       "      <td>2019-02-01</td>\n",
       "      <td>10004503520190201774912</td>\n",
       "      <td>ES4503</td>\n",
       "      <td>DigitalCard</td>\n",
       "      <td>77340000013409574</td>\n",
       "      <td>5</td>\n",
       "      <td>ES</td>\n",
       "      <td>ES4503</td>\n",
       "      <td>2017-07-02</td>\n",
       "      <td>NaN</td>\n",
       "      <td>F</td>\n",
       "      <td>3</td>\n",
       "      <td>50021</td>\n",
       "      <td>Friday</td>\n",
       "    </tr>\n",
       "    <tr>\n",
       "      <th>3</th>\n",
       "      <td>2019-02-01</td>\n",
       "      <td>1000450762019020140789</td>\n",
       "      <td>ES4507</td>\n",
       "      <td>Mobile</td>\n",
       "      <td>77340000000542815</td>\n",
       "      <td>5</td>\n",
       "      <td>ES</td>\n",
       "      <td>ES4507</td>\n",
       "      <td>2016-01-13</td>\n",
       "      <td>NaN</td>\n",
       "      <td>F</td>\n",
       "      <td>3</td>\n",
       "      <td>50016</td>\n",
       "      <td>Friday</td>\n",
       "    </tr>\n",
       "    <tr>\n",
       "      <th>4</th>\n",
       "      <td>2019-02-01</td>\n",
       "      <td>10004504320190201330084</td>\n",
       "      <td>ES4504</td>\n",
       "      <td>Mobile</td>\n",
       "      <td>77340000013090638</td>\n",
       "      <td>5</td>\n",
       "      <td>ES</td>\n",
       "      <td>ES4504</td>\n",
       "      <td>2017-06-04</td>\n",
       "      <td>NaN</td>\n",
       "      <td>M</td>\n",
       "      <td>5</td>\n",
       "      <td>50015</td>\n",
       "      <td>Friday</td>\n",
       "    </tr>\n",
       "    <tr>\n",
       "      <th>5</th>\n",
       "      <td>2019-02-01</td>\n",
       "      <td>10004503620190201356730</td>\n",
       "      <td>ES4503</td>\n",
       "      <td>DigitalCard</td>\n",
       "      <td>77340000012025772</td>\n",
       "      <td>5</td>\n",
       "      <td>ES</td>\n",
       "      <td>ES4503</td>\n",
       "      <td>2017-02-16</td>\n",
       "      <td>NaN</td>\n",
       "      <td>F</td>\n",
       "      <td>2</td>\n",
       "      <td>50021</td>\n",
       "      <td>Friday</td>\n",
       "    </tr>\n",
       "  </tbody>\n",
       "</table>\n",
       "</div>"
      ],
      "text/plain": [
       "     datekey                 ticketid storeid     cardtype         customerid  \\\n",
       "0 2019-02-01  10004503220190201744194  ES4503  DigitalCard  77340000013311992   \n",
       "1 2019-02-01  10004503520190201774912  ES4503  DigitalCard  77340000013409574   \n",
       "3 2019-02-01   1000450762019020140789  ES4507       Mobile  77340000000542815   \n",
       "4 2019-02-01  10004504320190201330084  ES4504       Mobile  77340000013090638   \n",
       "5 2019-02-01  10004503620190201356730  ES4503  DigitalCard  77340000012025772   \n",
       "\n",
       "   week_number_of_year isocountrycode regularstoreid registrationdate  \\\n",
       "0                    5             ES         ES4503       2017-06-24   \n",
       "1                    5             ES         ES4503       2017-07-02   \n",
       "3                    5             ES         ES4507       2016-01-13   \n",
       "4                    5             ES         ES4504       2017-06-04   \n",
       "5                    5             ES         ES4503       2017-02-16   \n",
       "\n",
       "  unregistrationdate gender  age zipcode weekday  \n",
       "0                NaN      F    3   50740  Friday  \n",
       "1                NaN      F    3   50021  Friday  \n",
       "3                NaN      F    3   50016  Friday  \n",
       "4                NaN      M    5   50015  Friday  \n",
       "5                NaN      F    2   50021  Friday  "
      ]
     },
     "execution_count": 1286,
     "metadata": {},
     "output_type": "execute_result"
    }
   ],
   "source": [
    "import numpy as np\n",
    "\n",
    "#Sustituir rangos de edad por valores del 0 al 6\n",
    "age = np.unique(df_ages['age'])\n",
    "\n",
    "def map_age(age):\n",
    "    if ((age > 0) & (age <= 17)):\n",
    "        return 0\n",
    "    elif ((age >= 18) & (age <= 25)):\n",
    "        return 1\n",
    "    elif ((age >= 26) & (age <= 35)):\n",
    "        return 2\n",
    "    elif ((age >= 36) & (age <= 45)):\n",
    "        return 3\n",
    "    elif ((age >= 46) & (age <= 50)):\n",
    "        return 4\n",
    "    elif ((age >= 51) & (age <= 55)):\n",
    "        return 5\n",
    "    elif ((age >= 56) & (age <= 60)):\n",
    "        return 6\n",
    "    elif ((age >= 61) & (age <= 65)):\n",
    "        return 7\n",
    "    elif ((age >= 66) & (age <= 70)):\n",
    "        return 8\n",
    "    else:\n",
    "        return 9\n",
    "    \n",
    "df_ages['age'] = df_ages['age'].apply(map_age)\n",
    "df_ages.head()"
   ]
  },
  {
   "cell_type": "markdown",
   "metadata": {},
   "source": [
    "### Se observa que las personas entre 36 y 45 años"
   ]
  },
  {
   "cell_type": "code",
   "execution_count": 1287,
   "metadata": {},
   "outputs": [
    {
     "data": {
      "text/plain": [
       "<matplotlib.axes._subplots.AxesSubplot at 0x12f8bd198>"
      ]
     },
     "execution_count": 1287,
     "metadata": {},
     "output_type": "execute_result"
    },
    {
     "data": {
      "image/png": "[encoded data removed]",
      "text/plain": [
       "<Figure size 1440x720 with 1 Axes>"
      ]
     },
     "metadata": {
      "needs_background": "light"
     },
     "output_type": "display_data"
    }
   ],
   "source": [
    "plt.rcParams['figure.figsize'] =[20, 10]\n",
    "plt.title('Tickets según la edad del cliente', bbox={\"facecolor\":\"0.8\", \"pad\":5})\n",
    "pd.value_counts(df_ages['age']).plot.bar()"
   ]
  },
  {
   "cell_type": "markdown",
   "metadata": {},
   "source": [
    "### Se observa que las personas entre 36 y 45 años son las que más compran sin importar el día de la semana"
   ]
  },
  {
   "cell_type": "code",
   "execution_count": 1288,
   "metadata": {},
   "outputs": [
    {
     "data": {
      "image/png": "[encoded data removed]",
      "text/plain": [
       "<Figure size 1440x720 with 1 Axes>"
      ]
     },
     "metadata": {
      "needs_background": "light"
     },
     "output_type": "display_data"
    }
   ],
   "source": [
    "ax = df_ages.groupby(['weekday','age'])['customerid'].count().unstack().reset_index()\\\n",
    ".plot.bar(x = 'weekday', y = [0,1,2,3,4,5,6,7,8,9])\n",
    "\n",
    "ax.legend([\"0 - 17\", \"18 - 25\",\"26 - 35\",\"36 - 45\",\"46 - 50\",\"51 - 55\",\"56 - 60\",\"61 - 65\",\"66 - 70\",\"Otros\"]);"
   ]
  },
  {
   "cell_type": "code",
   "execution_count": 1289,
   "metadata": {},
   "outputs": [
    {
     "data": {
      "text/html": [
       "<div>\n",
       "<style scoped>\n",
       "    .dataframe tbody tr th:only-of-type {\n",
       "        vertical-align: middle;\n",
       "    }\n",
       "\n",
       "    .dataframe tbody tr th {\n",
       "        vertical-align: top;\n",
       "    }\n",
       "\n",
       "    .dataframe thead th {\n",
       "        text-align: right;\n",
       "    }\n",
       "</style>\n",
       "<table border=\"1\" class=\"dataframe\">\n",
       "  <thead>\n",
       "    <tr style=\"text-align: right;\">\n",
       "      <th></th>\n",
       "      <th>ticketid</th>\n",
       "      <th>extendedamount</th>\n",
       "      <th>datekey</th>\n",
       "      <th>storeid</th>\n",
       "      <th>cardtype</th>\n",
       "      <th>customerid</th>\n",
       "      <th>week_number_of_year</th>\n",
       "      <th>isocountrycode</th>\n",
       "      <th>regularstoreid</th>\n",
       "      <th>registrationdate</th>\n",
       "      <th>unregistrationdate</th>\n",
       "      <th>gender</th>\n",
       "      <th>age</th>\n",
       "      <th>zipcode</th>\n",
       "      <th>weekday</th>\n",
       "    </tr>\n",
       "  </thead>\n",
       "  <tbody>\n",
       "    <tr>\n",
       "      <th>0</th>\n",
       "      <td>100002631201903074</td>\n",
       "      <td>4.53</td>\n",
       "      <td>2019-03-07</td>\n",
       "      <td>ES0263</td>\n",
       "      <td>DigitalCard</td>\n",
       "      <td>77000000097376194</td>\n",
       "      <td>10</td>\n",
       "      <td>NaN</td>\n",
       "      <td>NaN</td>\n",
       "      <td>NaN</td>\n",
       "      <td>NaN</td>\n",
       "      <td>NaN</td>\n",
       "      <td>NaN</td>\n",
       "      <td>NaN</td>\n",
       "      <td>Thursday</td>\n",
       "    </tr>\n",
       "    <tr>\n",
       "      <th>1</th>\n",
       "      <td>1000026312019031133</td>\n",
       "      <td>0.71</td>\n",
       "      <td>2019-03-11</td>\n",
       "      <td>ES0263</td>\n",
       "      <td>DigitalCard</td>\n",
       "      <td>77000000097376194</td>\n",
       "      <td>11</td>\n",
       "      <td>NaN</td>\n",
       "      <td>NaN</td>\n",
       "      <td>NaN</td>\n",
       "      <td>NaN</td>\n",
       "      <td>NaN</td>\n",
       "      <td>NaN</td>\n",
       "      <td>NaN</td>\n",
       "      <td>Monday</td>\n",
       "    </tr>\n",
       "    <tr>\n",
       "      <th>2</th>\n",
       "      <td>100002631201903141011</td>\n",
       "      <td>12.94</td>\n",
       "      <td>2019-03-14</td>\n",
       "      <td>ES0263</td>\n",
       "      <td>DigitalCard</td>\n",
       "      <td>77340000000249293</td>\n",
       "      <td>11</td>\n",
       "      <td>ES</td>\n",
       "      <td>ES0263</td>\n",
       "      <td>2015-12-22</td>\n",
       "      <td>NaN</td>\n",
       "      <td>F</td>\n",
       "      <td>63.0</td>\n",
       "      <td>50014</td>\n",
       "      <td>Thursday</td>\n",
       "    </tr>\n",
       "    <tr>\n",
       "      <th>3</th>\n",
       "      <td>100002631201903141014</td>\n",
       "      <td>22.37</td>\n",
       "      <td>2019-03-14</td>\n",
       "      <td>ES0263</td>\n",
       "      <td>Mobile</td>\n",
       "      <td>77340000000022507</td>\n",
       "      <td>11</td>\n",
       "      <td>ES</td>\n",
       "      <td>ES0263</td>\n",
       "      <td>2015-12-17</td>\n",
       "      <td>NaN</td>\n",
       "      <td>F</td>\n",
       "      <td>49.0</td>\n",
       "      <td>50014</td>\n",
       "      <td>Thursday</td>\n",
       "    </tr>\n",
       "    <tr>\n",
       "      <th>4</th>\n",
       "      <td>100002631201903141017</td>\n",
       "      <td>25.53</td>\n",
       "      <td>2019-03-14</td>\n",
       "      <td>ES0263</td>\n",
       "      <td>DigitalCard</td>\n",
       "      <td>77000000086087334</td>\n",
       "      <td>11</td>\n",
       "      <td>ES</td>\n",
       "      <td>ES0263</td>\n",
       "      <td>2018-04-30</td>\n",
       "      <td>NaN</td>\n",
       "      <td>NaN</td>\n",
       "      <td>NaN</td>\n",
       "      <td>NaN</td>\n",
       "      <td>Thursday</td>\n",
       "    </tr>\n",
       "  </tbody>\n",
       "</table>\n",
       "</div>"
      ],
      "text/plain": [
       "                ticketid  extendedamount    datekey storeid     cardtype  \\\n",
       "0     100002631201903074            4.53 2019-03-07  ES0263  DigitalCard   \n",
       "1    1000026312019031133            0.71 2019-03-11  ES0263  DigitalCard   \n",
       "2  100002631201903141011           12.94 2019-03-14  ES0263  DigitalCard   \n",
       "3  100002631201903141014           22.37 2019-03-14  ES0263       Mobile   \n",
       "4  100002631201903141017           25.53 2019-03-14  ES0263  DigitalCard   \n",
       "\n",
       "          customerid  week_number_of_year isocountrycode regularstoreid  \\\n",
       "0  77000000097376194                   10            NaN            NaN   \n",
       "1  77000000097376194                   11            NaN            NaN   \n",
       "2  77340000000249293                   11             ES         ES0263   \n",
       "3  77340000000022507                   11             ES         ES0263   \n",
       "4  77000000086087334                   11             ES         ES0263   \n",
       "\n",
       "  registrationdate unregistrationdate gender   age zipcode   weekday  \n",
       "0              NaN                NaN    NaN   NaN     NaN  Thursday  \n",
       "1              NaN                NaN    NaN   NaN     NaN    Monday  \n",
       "2       2015-12-22                NaN      F  63.0   50014  Thursday  \n",
       "3       2015-12-17                NaN      F  49.0   50014  Thursday  \n",
       "4       2018-04-30                NaN    NaN   NaN     NaN  Thursday  "
      ]
     },
     "execution_count": 1289,
     "metadata": {},
     "output_type": "execute_result"
    }
   ],
   "source": [
    "df = pd.DataFrame(dF_tickets.groupby(['ticketid'])['extendedamount'].sum())\n",
    "df_tickets_customers = df.merge(df_tickets_customers, on=\"ticketid\", how = 'inner')\n",
    "df_tickets_customers.head()"
   ]
  },
  {
   "cell_type": "markdown",
   "metadata": {},
   "source": [
    "## PROMEDIO DE COMPRA POR GENERO Y POR DIA DE SEMANA"
   ]
  },
  {
   "cell_type": "markdown",
   "metadata": {},
   "source": [
    "### Se observa que:\n",
    "#### En promedio, los días lunes el género \"1\" gasta más. \n",
    "#### En promedio, los días martes el género \"1\" gasta más. \n",
    "#### En promedio, los días jueves el género \"1\" gasta ligeramente más.\n",
    "#### En promedio, los días viernes el género \"1\" gasta más. \n",
    "#### En promedio, los días sábado el género \"2\" gasta más. \n",
    "\n",
    "#### Tomando en cuenta únicamente hombres y mujeres, el gasto promedio tiene un comportamiento similar sin importar el dia de la semana"
   ]
  },
  {
   "cell_type": "code",
   "execution_count": 1290,
   "metadata": {},
   "outputs": [
    {
     "data": {
      "image/png": "[encoded data removed]",
      "text/plain": [
       "<Figure size 1440x720 with 1 Axes>"
      ]
     },
     "metadata": {
      "needs_background": "light"
     },
     "output_type": "display_data"
    }
   ],
   "source": [
    "ax = df_tickets_customers.groupby(['weekday','gender'])['extendedamount'].mean().unstack().reset_index()\\\n",
    ".plot.bar(x = 'weekday', y = ['0', '1','2','F','M'])"
   ]
  },
  {
   "cell_type": "markdown",
   "metadata": {},
   "source": [
    "## PROMEDIO DE COMPRA POR RANGO DE EDAD Y POR DIA DE SEMANA"
   ]
  },
  {
   "cell_type": "markdown",
   "metadata": {},
   "source": [
    "### Se observa que:\n",
    "#### Los días sábado los clientes entre 0 y 17 años gastan más dinero\n",
    "\n",
    "#### La diferencia entre el gasto promedio por día de la semana y la edad del cliente no es significativa\n",
    "\n",
    "### Observando los gráficos anteriores, los clientes entre 36 y 45 años son los que más compran, sin embargo no son los que más gastan"
   ]
  },
  {
   "cell_type": "code",
   "execution_count": 1291,
   "metadata": {},
   "outputs": [
    {
     "data": {
      "image/png": "[encoded data removed]",
      "text/plain": [
       "<Figure size 1440x720 with 1 Axes>"
      ]
     },
     "metadata": {
      "needs_background": "light"
     },
     "output_type": "display_data"
    }
   ],
   "source": [
    "df= pd.DataFrame(df_tickets_customers.dropna(subset=['age']))\n",
    "df['age'] = df['age'].apply(map_age)\n",
    "ax = df.groupby(['weekday','age'])['extendedamount'].mean().unstack().reset_index()\\\n",
    ".plot.bar(x = 'weekday', y = [0,1,2,3,4,5,6,7,8,9])\n",
    "\n",
    "ax.legend([\"0 - 17\", \"18 - 25\",\"26 - 35\",\"36 - 45\",\"46 - 50\",\"51 - 55\",\"56 - 60\",\"61 - 65\",\"66 - 70\",\"Otros\"]);"
   ]
  },
  {
   "cell_type": "markdown",
   "metadata": {},
   "source": [
    "## VENTAS POR TIENDA"
   ]
  },
  {
   "cell_type": "markdown",
   "metadata": {},
   "source": [
    "### Se observa que la tienda ES4503 tiene mayor número de ventas\n",
    "### Se observa que la tiene ES0263 es la que tiene menor número de ventas"
   ]
  },
  {
   "cell_type": "code",
   "execution_count": 1292,
   "metadata": {},
   "outputs": [
    {
     "data": {
      "text/plain": [
       "<matplotlib.axes._subplots.AxesSubplot at 0x138231ac8>"
      ]
     },
     "execution_count": 1292,
     "metadata": {},
     "output_type": "execute_result"
    },
    {
     "data": {
      "image/png": "[encoded data removed]",
      "text/plain": [
       "<Figure size 1440x720 with 1 Axes>"
      ]
     },
     "metadata": {
      "needs_background": "light"
     },
     "output_type": "display_data"
    }
   ],
   "source": [
    "pd.value_counts(df_tickets_customers['storeid']).plot.bar()"
   ]
  },
  {
   "cell_type": "markdown",
   "metadata": {},
   "source": [
    "### GÉNERO CON MAS FRECUENCIA DE COMPRA POR TIENDA"
   ]
  },
  {
   "cell_type": "markdown",
   "metadata": {},
   "source": [
    "### Se observa que las mujeres realizan más compras sin importar la tienda"
   ]
  },
  {
   "cell_type": "code",
   "execution_count": 1293,
   "metadata": {},
   "outputs": [
    {
     "data": {
      "text/plain": [
       "<matplotlib.axes._subplots.AxesSubplot at 0x12c112630>"
      ]
     },
     "execution_count": 1293,
     "metadata": {},
     "output_type": "execute_result"
    },
    {
     "data": {
      "image/png": "[encoded data removed]",
      "text/plain": [
       "<Figure size 1440x720 with 1 Axes>"
      ]
     },
     "metadata": {
      "needs_background": "light"
     },
     "output_type": "display_data"
    }
   ],
   "source": [
    "import seaborn as sns\n",
    "df_tickets_customers.groupby(['storeid','gender'])['customerid'].count().unstack().reset_index()\\\n",
    ".plot.bar(x = 'storeid', y = ['0', '1','2','F','M'])"
   ]
  },
  {
   "cell_type": "markdown",
   "metadata": {},
   "source": [
    "## COMPRAS POR RANGO DE EDADES Y POR TIENDA"
   ]
  },
  {
   "cell_type": "markdown",
   "metadata": {},
   "source": [
    "#### Las personas entre 36 y 45 son las que más compran sin importar la tienda\n",
    "\n",
    "#### En la tienda ES4505 las personas entre 26 y 35 años ocupan el segundo lugar entre los que más compran"
   ]
  },
  {
   "cell_type": "code",
   "execution_count": 1294,
   "metadata": {},
   "outputs": [
    {
     "data": {
      "image/png": "[encoded data removed]",
      "text/plain": [
       "<Figure size 1440x720 with 1 Axes>"
      ]
     },
     "metadata": {
      "needs_background": "light"
     },
     "output_type": "display_data"
    }
   ],
   "source": [
    "df = pd.DataFrame(df_tickets_customers.dropna(subset=['age']))\n",
    "df['age'] = df['age'].apply(map_age)\n",
    "ax = df.groupby(['storeid','age'])['customerid'].count().unstack().reset_index()\\\n",
    ".plot.bar(x = 'storeid', y = [0,1,2,3,4,5,6,7,8,9])\n",
    "ax.legend([\"0 - 17\", \"18 - 25\",\"26 - 35\",\"36 - 45\",\"46 - 50\",\"51 - 55\",\"56 - 60\",\"61 - 65\",\"66 - 70\",\"Otros\"]);"
   ]
  },
  {
   "cell_type": "markdown",
   "metadata": {},
   "source": [
    "## PROMEDIO DE COMPRA POR TIENDA Y GÉNERO"
   ]
  },
  {
   "cell_type": "markdown",
   "metadata": {},
   "source": [
    "### Se observa que: \n",
    "#### No hay mayor diferencia en el gasto promedio por género en cada tienda\n",
    "#### En la tienda ES0263 el gasto del género \"2\" es mucho mayor que en otras tiendas"
   ]
  },
  {
   "cell_type": "code",
   "execution_count": 1295,
   "metadata": {},
   "outputs": [
    {
     "data": {
      "image/png": "[encoded data removed]",
      "text/plain": [
       "<Figure size 1440x720 with 1 Axes>"
      ]
     },
     "metadata": {
      "needs_background": "light"
     },
     "output_type": "display_data"
    }
   ],
   "source": [
    "df = df_tickets_customers.groupby(['storeid','gender'])['extendedamount'].mean().unstack().reset_index()\\\n",
    ".plot.bar(x = 'storeid', y = ['0', '1','2','F','M'])"
   ]
  },
  {
   "cell_type": "markdown",
   "metadata": {},
   "source": [
    "## PROMEDIO DE COMPRA POR TIENDA Y DÍA DE LA SEMANA"
   ]
  },
  {
   "cell_type": "markdown",
   "metadata": {},
   "source": [
    "### En general, los días sábado el gasto promedio es mayor sin importar la tienda"
   ]
  },
  {
   "cell_type": "code",
   "execution_count": 1296,
   "metadata": {},
   "outputs": [
    {
     "data": {
      "image/png": "[encoded data removed]",
      "text/plain": [
       "<Figure size 1440x720 with 1 Axes>"
      ]
     },
     "metadata": {
      "needs_background": "light"
     },
     "output_type": "display_data"
    }
   ],
   "source": [
    "df = df_tickets_customers.groupby(['storeid','weekday'])['extendedamount'].mean().unstack().reset_index()\\\n",
    ".plot.bar(x = 'storeid', y = ['Monday', 'Tuesday','Thursday','Friday','Saturday'])"
   ]
  },
  {
   "cell_type": "code",
   "execution_count": 1297,
   "metadata": {},
   "outputs": [
    {
     "data": {
      "text/html": [
       "<div>\n",
       "<style scoped>\n",
       "    .dataframe tbody tr th:only-of-type {\n",
       "        vertical-align: middle;\n",
       "    }\n",
       "\n",
       "    .dataframe tbody tr th {\n",
       "        vertical-align: top;\n",
       "    }\n",
       "\n",
       "    .dataframe thead th {\n",
       "        text-align: right;\n",
       "    }\n",
       "</style>\n",
       "<table border=\"1\" class=\"dataframe\">\n",
       "  <thead>\n",
       "    <tr style=\"text-align: right;\">\n",
       "      <th></th>\n",
       "      <th>ticketid</th>\n",
       "      <th>linenumber</th>\n",
       "      <th>customerid</th>\n",
       "      <th>cardtype</th>\n",
       "      <th>datekey</th>\n",
       "      <th>productid</th>\n",
       "      <th>quantity</th>\n",
       "      <th>extendedamount</th>\n",
       "      <th>originalamount</th>\n",
       "      <th>totaldiscount</th>\n",
       "      <th>...</th>\n",
       "      <th>familyname</th>\n",
       "      <th>categoryname</th>\n",
       "      <th>subcategoryname</th>\n",
       "      <th>merchandisefamily</th>\n",
       "      <th>weightproduct</th>\n",
       "      <th>scaleproduct</th>\n",
       "      <th>vatdescription</th>\n",
       "      <th>vatrate</th>\n",
       "      <th>agelimit</th>\n",
       "      <th>hwgdescription</th>\n",
       "    </tr>\n",
       "  </thead>\n",
       "  <tbody>\n",
       "    <tr>\n",
       "      <th>0</th>\n",
       "      <td>1000450772019020148559</td>\n",
       "      <td>10</td>\n",
       "      <td>77340000012668203</td>\n",
       "      <td>DigitalCard</td>\n",
       "      <td>2019-02-01</td>\n",
       "      <td>5704632</td>\n",
       "      <td>1.0</td>\n",
       "      <td>3.97</td>\n",
       "      <td>3.99</td>\n",
       "      <td>0.02</td>\n",
       "      <td>...</td>\n",
       "      <td>TOTAL VINOS</td>\n",
       "      <td>BLANCO</td>\n",
       "      <td>CON DENOMINACION</td>\n",
       "      <td>Vino blanco de Europa</td>\n",
       "      <td>False</td>\n",
       "      <td>False</td>\n",
       "      <td>Ordinario</td>\n",
       "      <td>21.0</td>\n",
       "      <td>18</td>\n",
       "      <td>Bebidas</td>\n",
       "    </tr>\n",
       "    <tr>\n",
       "      <th>1</th>\n",
       "      <td>10004503620190201357267</td>\n",
       "      <td>11</td>\n",
       "      <td>77340000001409219</td>\n",
       "      <td>DigitalCard</td>\n",
       "      <td>2019-02-01</td>\n",
       "      <td>5704632</td>\n",
       "      <td>1.0</td>\n",
       "      <td>3.99</td>\n",
       "      <td>3.99</td>\n",
       "      <td>0.00</td>\n",
       "      <td>...</td>\n",
       "      <td>TOTAL VINOS</td>\n",
       "      <td>BLANCO</td>\n",
       "      <td>CON DENOMINACION</td>\n",
       "      <td>Vino blanco de Europa</td>\n",
       "      <td>False</td>\n",
       "      <td>False</td>\n",
       "      <td>Ordinario</td>\n",
       "      <td>21.0</td>\n",
       "      <td>18</td>\n",
       "      <td>Bebidas</td>\n",
       "    </tr>\n",
       "    <tr>\n",
       "      <th>2</th>\n",
       "      <td>1000450762019020140631</td>\n",
       "      <td>1</td>\n",
       "      <td>77340000017233023</td>\n",
       "      <td>DigitalCard</td>\n",
       "      <td>2019-02-01</td>\n",
       "      <td>5704632</td>\n",
       "      <td>1.0</td>\n",
       "      <td>3.99</td>\n",
       "      <td>3.99</td>\n",
       "      <td>0.00</td>\n",
       "      <td>...</td>\n",
       "      <td>TOTAL VINOS</td>\n",
       "      <td>BLANCO</td>\n",
       "      <td>CON DENOMINACION</td>\n",
       "      <td>Vino blanco de Europa</td>\n",
       "      <td>False</td>\n",
       "      <td>False</td>\n",
       "      <td>Ordinario</td>\n",
       "      <td>21.0</td>\n",
       "      <td>18</td>\n",
       "      <td>Bebidas</td>\n",
       "    </tr>\n",
       "    <tr>\n",
       "      <th>3</th>\n",
       "      <td>1000450762019020140631</td>\n",
       "      <td>2</td>\n",
       "      <td>77340000017233023</td>\n",
       "      <td>DigitalCard</td>\n",
       "      <td>2019-02-01</td>\n",
       "      <td>5704632</td>\n",
       "      <td>1.0</td>\n",
       "      <td>3.99</td>\n",
       "      <td>3.99</td>\n",
       "      <td>0.00</td>\n",
       "      <td>...</td>\n",
       "      <td>TOTAL VINOS</td>\n",
       "      <td>BLANCO</td>\n",
       "      <td>CON DENOMINACION</td>\n",
       "      <td>Vino blanco de Europa</td>\n",
       "      <td>False</td>\n",
       "      <td>False</td>\n",
       "      <td>Ordinario</td>\n",
       "      <td>21.0</td>\n",
       "      <td>18</td>\n",
       "      <td>Bebidas</td>\n",
       "    </tr>\n",
       "    <tr>\n",
       "      <th>4</th>\n",
       "      <td>1000450732019012412558</td>\n",
       "      <td>22</td>\n",
       "      <td>77340000001130732</td>\n",
       "      <td>DigitalCard</td>\n",
       "      <td>2019-01-24</td>\n",
       "      <td>5704632</td>\n",
       "      <td>1.0</td>\n",
       "      <td>3.99</td>\n",
       "      <td>3.99</td>\n",
       "      <td>0.00</td>\n",
       "      <td>...</td>\n",
       "      <td>TOTAL VINOS</td>\n",
       "      <td>BLANCO</td>\n",
       "      <td>CON DENOMINACION</td>\n",
       "      <td>Vino blanco de Europa</td>\n",
       "      <td>False</td>\n",
       "      <td>False</td>\n",
       "      <td>Ordinario</td>\n",
       "      <td>21.0</td>\n",
       "      <td>18</td>\n",
       "      <td>Bebidas</td>\n",
       "    </tr>\n",
       "  </tbody>\n",
       "</table>\n",
       "<p>5 rows × 30 columns</p>\n",
       "</div>"
      ],
      "text/plain": [
       "                  ticketid  linenumber         customerid     cardtype  \\\n",
       "0   1000450772019020148559          10  77340000012668203  DigitalCard   \n",
       "1  10004503620190201357267          11  77340000001409219  DigitalCard   \n",
       "2   1000450762019020140631           1  77340000017233023  DigitalCard   \n",
       "3   1000450762019020140631           2  77340000017233023  DigitalCard   \n",
       "4   1000450732019012412558          22  77340000001130732  DigitalCard   \n",
       "\n",
       "     datekey  productid  quantity  extendedamount  originalamount  \\\n",
       "0 2019-02-01    5704632       1.0            3.97            3.99   \n",
       "1 2019-02-01    5704632       1.0            3.99            3.99   \n",
       "2 2019-02-01    5704632       1.0            3.99            3.99   \n",
       "3 2019-02-01    5704632       1.0            3.99            3.99   \n",
       "4 2019-01-24    5704632       1.0            3.99            3.99   \n",
       "\n",
       "   totaldiscount  ...   familyname categoryname   subcategoryname  \\\n",
       "0           0.02  ...  TOTAL VINOS       BLANCO  CON DENOMINACION   \n",
       "1           0.00  ...  TOTAL VINOS       BLANCO  CON DENOMINACION   \n",
       "2           0.00  ...  TOTAL VINOS       BLANCO  CON DENOMINACION   \n",
       "3           0.00  ...  TOTAL VINOS       BLANCO  CON DENOMINACION   \n",
       "4           0.00  ...  TOTAL VINOS       BLANCO  CON DENOMINACION   \n",
       "\n",
       "       merchandisefamily weightproduct scaleproduct vatdescription vatrate  \\\n",
       "0  Vino blanco de Europa         False        False      Ordinario    21.0   \n",
       "1  Vino blanco de Europa         False        False      Ordinario    21.0   \n",
       "2  Vino blanco de Europa         False        False      Ordinario    21.0   \n",
       "3  Vino blanco de Europa         False        False      Ordinario    21.0   \n",
       "4  Vino blanco de Europa         False        False      Ordinario    21.0   \n",
       "\n",
       "   agelimit hwgdescription  \n",
       "0        18        Bebidas  \n",
       "1        18        Bebidas  \n",
       "2        18        Bebidas  \n",
       "3        18        Bebidas  \n",
       "4        18        Bebidas  \n",
       "\n",
       "[5 rows x 30 columns]"
      ]
     },
     "execution_count": 1297,
     "metadata": {},
     "output_type": "execute_result"
    }
   ],
   "source": [
    "df_tickets_products = dF_tickets.merge(dF_products, on=\"productid\", how = 'inner')\n",
    "df_tickets_products.head()"
   ]
  },
  {
   "cell_type": "markdown",
   "metadata": {},
   "source": [
    "## CAREGORÍAS DE PRODUCTOS VENDIDOS"
   ]
  },
  {
   "cell_type": "markdown",
   "metadata": {},
   "source": [
    "### LOS PRODUCTOS MÁS VENDIDOS SON LOS FRESCOS PERECEDEROS "
   ]
  },
  {
   "cell_type": "code",
   "execution_count": 1298,
   "metadata": {},
   "outputs": [
    {
     "data": {
      "text/plain": [
       "<matplotlib.axes._subplots.AxesSubplot at 0x133c726a0>"
      ]
     },
     "execution_count": 1298,
     "metadata": {},
     "output_type": "execute_result"
    },
    {
     "data": {
      "image/png": "[encoded data removed]",
      "text/plain": [
       "<Figure size 1440x360 with 1 Axes>"
      ]
     },
     "metadata": {
      "needs_background": "light"
     },
     "output_type": "display_data"
    }
   ],
   "source": [
    "plt.rcParams['figure.figsize'] =[20, 5]\n",
    "pd.value_counts(df_tickets_products['sectionname']).plot.bar()"
   ]
  },
  {
   "cell_type": "markdown",
   "metadata": {},
   "source": [
    "### LOS PRODUCTOS MÁS VENDIDOS SON LAS VERDURAS/ HORTALIZAS"
   ]
  },
  {
   "cell_type": "code",
   "execution_count": 1299,
   "metadata": {},
   "outputs": [
    {
     "data": {
      "text/plain": [
       "<matplotlib.axes._subplots.AxesSubplot at 0x12f898240>"
      ]
     },
     "execution_count": 1299,
     "metadata": {},
     "output_type": "execute_result"
    },
    {
     "data": {
      "image/png": "[encoded data removed]",
      "text/plain": [
       "<Figure size 1440x360 with 1 Axes>"
      ]
     },
     "metadata": {
      "needs_background": "light"
     },
     "output_type": "display_data"
    }
   ],
   "source": [
    "plt.rcParams['figure.figsize'] =[20, 5]\n",
    "pd.value_counts(df_tickets_products[(df_tickets_products.sectionname == 'FRESCOS PERECEDEROS')]['categoryname']).plot.bar()"
   ]
  },
  {
   "cell_type": "markdown",
   "metadata": {},
   "source": [
    "### CATEGORÍAS DE PRODUCTOS MÁS VENDIDOS POR GÉNERO"
   ]
  },
  {
   "cell_type": "markdown",
   "metadata": {},
   "source": [
    "#### En general las mujeres son las que más compran sin importar la seccion del producto"
   ]
  },
  {
   "cell_type": "code",
   "execution_count": 1300,
   "metadata": {},
   "outputs": [
    {
     "data": {
      "text/plain": [
       "<matplotlib.axes._subplots.AxesSubplot at 0x1336f2d30>"
      ]
     },
     "execution_count": 1300,
     "metadata": {},
     "output_type": "execute_result"
    },
    {
     "data": {
      "image/png": "[encoded data removed]",
      "text/plain": [
       "<Figure size 1440x360 with 1 Axes>"
      ]
     },
     "metadata": {
      "needs_background": "light"
     },
     "output_type": "display_data"
    }
   ],
   "source": [
    "df_tickets_products_customers = df_tickets_products.merge(dF_customers, on=\"customerid\", how = 'inner')\n",
    "\n",
    "df_tickets_products_customers.groupby(['sectionname','gender'])['customerid'].count().unstack().reset_index()\\\n",
    ".plot.bar(x = 'sectionname', y = ['0', '1','2','F','M'])"
   ]
  },
  {
   "cell_type": "markdown",
   "metadata": {},
   "source": [
    "### PRODUCTOS ESPECÍFICOS DE PRODUCTOS MÁS VENDIDOS POR GÉNERO"
   ]
  },
  {
   "cell_type": "code",
   "execution_count": 1301,
   "metadata": {},
   "outputs": [
    {
     "data": {
      "text/plain": [
       "<matplotlib.axes._subplots.AxesSubplot at 0x134178fd0>"
      ]
     },
     "execution_count": 1301,
     "metadata": {},
     "output_type": "execute_result"
    },
    {
     "data": {
      "image/png": "[encoded data removed]",
      "text/plain": [
       "<Figure size 1440x360 with 1 Axes>"
      ]
     },
     "metadata": {
      "needs_background": "light"
     },
     "output_type": "display_data"
    }
   ],
   "source": [
    "df_tickets_products_customers[(df_tickets_products_customers.sectionname == 'FRESCOS PERECEDEROS')].groupby(['categoryname','gender'])['customerid'].count().unstack().reset_index()\\\n",
    ".plot.bar(x = 'categoryname', y = ['0', '1','2','F','M'])"
   ]
  },
  {
   "cell_type": "markdown",
   "metadata": {},
   "source": [
    "### CATEGORÍAS DE PRODUCTOS MÁS VENDIDOS POR DÍA DE LA SEMANA"
   ]
  },
  {
   "cell_type": "code",
   "execution_count": 1302,
   "metadata": {},
   "outputs": [
    {
     "data": {
      "text/plain": [
       "<matplotlib.axes._subplots.AxesSubplot at 0x1afd7e4710>"
      ]
     },
     "execution_count": 1302,
     "metadata": {},
     "output_type": "execute_result"
    },
    {
     "data": {
      "image/png": "[encoded data removed]",
      "text/plain": [
       "<Figure size 1440x360 with 1 Axes>"
      ]
     },
     "metadata": {
      "needs_background": "light"
     },
     "output_type": "display_data"
    }
   ],
   "source": [
    "df_tickets_products_customers['datekey']=pd.to_datetime(df_tickets_products_customers['datekey'],format=\"%Y-%m-%d\")\n",
    "df_tickets_products_customers['weekday'] = df_tickets_products_customers['datekey'].apply(lambda x: dt.datetime.strftime(x, '%A'))\n",
    "df_tickets_products_customers[(df_tickets_products_customers.sectionname == 'FRESCOS PERECEDEROS')].groupby(['categoryname','weekday'])['customerid'].count().unstack().reset_index()\\\n",
    ".plot.bar(x = 'categoryname', y = ['Monday', 'Tuesday','Thursday','Friday','Saturday'])"
   ]
  },
  {
   "cell_type": "markdown",
   "metadata": {},
   "source": [
    "### CATEGORIAS DE PRODUCTOS MÁS VENDIDOS POR EDADES"
   ]
  },
  {
   "cell_type": "code",
   "execution_count": 1303,
   "metadata": {},
   "outputs": [
    {
     "name": "stderr",
     "output_type": "stream",
     "text": [
      "/Users/karen.barreto/anaconda3/lib/python3.7/site-packages/ipykernel_launcher.py:3: SettingWithCopyWarning: \n",
      "A value is trying to be set on a copy of a slice from a DataFrame.\n",
      "Try using .loc[row_indexer,col_indexer] = value instead\n",
      "\n",
      "See the caveats in the documentation: http://pandas.pydata.org/pandas-docs/stable/indexing.html#indexing-view-versus-copy\n",
      "  This is separate from the ipykernel package so we can avoid doing imports until\n"
     ]
    },
    {
     "data": {
      "image/png": "[encoded data removed]",
      "text/plain": [
       "<Figure size 1440x360 with 1 Axes>"
      ]
     },
     "metadata": {
      "needs_background": "light"
     },
     "output_type": "display_data"
    }
   ],
   "source": [
    "df_ages= df_tickets_products_customers.dropna(subset=['age'])  \n",
    "\n",
    "df_ages['age'] = df_ages['age'].apply(map_age)\n",
    "ax = df_ages[(df_ages.sectionname == 'FRESCOS PERECEDEROS')].groupby(['categoryname','age'])['customerid'].count().unstack().reset_index()\\\n",
    ".plot.bar(x = 'categoryname', y = [0,1,2,3,4,5,6,7,8,9])\n",
    "\n",
    "ax.legend([\"0 - 17\", \"18 - 25\",\"26 - 35\",\"36 - 45\",\"46 - 50\",\"51 - 55\",\"56 - 60\",\"61 - 65\",\"66 - 70\",\"Otros\"]);"
   ]
  },
  {
   "cell_type": "markdown",
   "metadata": {},
   "source": [
    "### Productos más vendidos"
   ]
  },
  {
   "cell_type": "code",
   "execution_count": 1304,
   "metadata": {},
   "outputs": [
    {
     "data": {
      "text/plain": [
       "<matplotlib.legend.Legend at 0x134177160>"
      ]
     },
     "execution_count": 1304,
     "metadata": {},
     "output_type": "execute_result"
    },
    {
     "data": {
      "image/png": "[encoded data removed]",
      "text/plain": [
       "<Figure size 720x1440 with 1 Axes>"
      ]
     },
     "metadata": {},
     "output_type": "display_data"
    }
   ],
   "source": [
    "df_tickets_description = df_tickets_products_customers[\"hwgdescription\"].value_counts()\n",
    "df_tickets_description = df_tickets_description / df_tickets_description.sum()\n",
    "plt.figure(figsize = (10, 20))\n",
    "plt.pie(df_tickets_description, labels = df_tickets_description.index, autopct='%1.1f%%')\n",
    "plt.title('Tickets según el tipo de producto', bbox={\"facecolor\":\"0.8\", \"pad\":5})\n",
    "plt.legend()"
   ]
  },
  {
   "cell_type": "markdown",
   "metadata": {},
   "source": [
    "### Mapa de correlación entre variables"
   ]
  },
  {
   "cell_type": "code",
   "execution_count": 1305,
   "metadata": {},
   "outputs": [
    {
     "data": {
      "text/plain": [
       "<matplotlib.axes._subplots.AxesSubplot at 0x1382dc860>"
      ]
     },
     "execution_count": 1305,
     "metadata": {},
     "output_type": "execute_result"
    },
    {
     "data": {
      "image/png": "[encoded data removed]",
      "text/plain": [
       "<Figure size 1440x720 with 2 Axes>"
      ]
     },
     "metadata": {
      "needs_background": "light"
     },
     "output_type": "display_data"
    }
   ],
   "source": [
    "plt.rcParams['figure.figsize'] =[20, 10]\n",
    "df_tickets_products_customers_stores = df_tickets_products_customers.merge(dF_stores, on=\"storeid\", how = 'inner')\n",
    "sns.heatmap(df_tickets_products_customers_stores.corr())"
   ]
  },
  {
   "cell_type": "markdown",
   "metadata": {},
   "source": [
    "### Gasto diario"
   ]
  },
  {
   "cell_type": "code",
   "execution_count": 1306,
   "metadata": {},
   "outputs": [
    {
     "data": {
      "text/html": [
       "<div>\n",
       "<style scoped>\n",
       "    .dataframe tbody tr th:only-of-type {\n",
       "        vertical-align: middle;\n",
       "    }\n",
       "\n",
       "    .dataframe tbody tr th {\n",
       "        vertical-align: top;\n",
       "    }\n",
       "\n",
       "    .dataframe thead th {\n",
       "        text-align: right;\n",
       "    }\n",
       "</style>\n",
       "<table border=\"1\" class=\"dataframe\">\n",
       "  <thead>\n",
       "    <tr style=\"text-align: right;\">\n",
       "      <th>datekey</th>\n",
       "      <th>2019-01-03 00:00:00</th>\n",
       "      <th>2019-01-04 00:00:00</th>\n",
       "      <th>2019-01-05 00:00:00</th>\n",
       "      <th>2019-01-10 00:00:00</th>\n",
       "      <th>2019-01-11 00:00:00</th>\n",
       "      <th>2019-01-12 00:00:00</th>\n",
       "      <th>2019-01-14 00:00:00</th>\n",
       "      <th>2019-01-19 00:00:00</th>\n",
       "      <th>2019-01-24 00:00:00</th>\n",
       "      <th>2019-01-31 00:00:00</th>\n",
       "      <th>...</th>\n",
       "      <th>2019-03-08 00:00:00</th>\n",
       "      <th>2019-03-11 00:00:00</th>\n",
       "      <th>2019-03-14 00:00:00</th>\n",
       "      <th>2019-03-16 00:00:00</th>\n",
       "      <th>2019-03-18 00:00:00</th>\n",
       "      <th>2019-03-21 00:00:00</th>\n",
       "      <th>2019-03-23 00:00:00</th>\n",
       "      <th>2019-03-25 00:00:00</th>\n",
       "      <th>2019-03-30 00:00:00</th>\n",
       "      <th>avg_compra_diaria</th>\n",
       "    </tr>\n",
       "    <tr>\n",
       "      <th>customerid</th>\n",
       "      <th></th>\n",
       "      <th></th>\n",
       "      <th></th>\n",
       "      <th></th>\n",
       "      <th></th>\n",
       "      <th></th>\n",
       "      <th></th>\n",
       "      <th></th>\n",
       "      <th></th>\n",
       "      <th></th>\n",
       "      <th></th>\n",
       "      <th></th>\n",
       "      <th></th>\n",
       "      <th></th>\n",
       "      <th></th>\n",
       "      <th></th>\n",
       "      <th></th>\n",
       "      <th></th>\n",
       "      <th></th>\n",
       "      <th></th>\n",
       "      <th></th>\n",
       "    </tr>\n",
       "  </thead>\n",
       "  <tbody>\n",
       "    <tr>\n",
       "      <th>77000000050003334</th>\n",
       "      <td>NaN</td>\n",
       "      <td>NaN</td>\n",
       "      <td>NaN</td>\n",
       "      <td>NaN</td>\n",
       "      <td>33.14</td>\n",
       "      <td>NaN</td>\n",
       "      <td>NaN</td>\n",
       "      <td>NaN</td>\n",
       "      <td>NaN</td>\n",
       "      <td>NaN</td>\n",
       "      <td>...</td>\n",
       "      <td>NaN</td>\n",
       "      <td>NaN</td>\n",
       "      <td>NaN</td>\n",
       "      <td>NaN</td>\n",
       "      <td>NaN</td>\n",
       "      <td>NaN</td>\n",
       "      <td>NaN</td>\n",
       "      <td>NaN</td>\n",
       "      <td>NaN</td>\n",
       "      <td>49.653333</td>\n",
       "    </tr>\n",
       "    <tr>\n",
       "      <th>77000000050010221</th>\n",
       "      <td>NaN</td>\n",
       "      <td>NaN</td>\n",
       "      <td>NaN</td>\n",
       "      <td>NaN</td>\n",
       "      <td>NaN</td>\n",
       "      <td>NaN</td>\n",
       "      <td>NaN</td>\n",
       "      <td>NaN</td>\n",
       "      <td>NaN</td>\n",
       "      <td>NaN</td>\n",
       "      <td>...</td>\n",
       "      <td>NaN</td>\n",
       "      <td>NaN</td>\n",
       "      <td>NaN</td>\n",
       "      <td>NaN</td>\n",
       "      <td>NaN</td>\n",
       "      <td>NaN</td>\n",
       "      <td>NaN</td>\n",
       "      <td>NaN</td>\n",
       "      <td>NaN</td>\n",
       "      <td>33.300000</td>\n",
       "    </tr>\n",
       "    <tr>\n",
       "      <th>77000000050012258</th>\n",
       "      <td>NaN</td>\n",
       "      <td>NaN</td>\n",
       "      <td>NaN</td>\n",
       "      <td>39.24</td>\n",
       "      <td>NaN</td>\n",
       "      <td>NaN</td>\n",
       "      <td>38.13</td>\n",
       "      <td>NaN</td>\n",
       "      <td>18.15</td>\n",
       "      <td>5.06</td>\n",
       "      <td>...</td>\n",
       "      <td>NaN</td>\n",
       "      <td>NaN</td>\n",
       "      <td>3.99</td>\n",
       "      <td>NaN</td>\n",
       "      <td>NaN</td>\n",
       "      <td>34.22</td>\n",
       "      <td>NaN</td>\n",
       "      <td>NaN</td>\n",
       "      <td>NaN</td>\n",
       "      <td>23.131667</td>\n",
       "    </tr>\n",
       "    <tr>\n",
       "      <th>77000000050014586</th>\n",
       "      <td>NaN</td>\n",
       "      <td>NaN</td>\n",
       "      <td>NaN</td>\n",
       "      <td>NaN</td>\n",
       "      <td>NaN</td>\n",
       "      <td>NaN</td>\n",
       "      <td>NaN</td>\n",
       "      <td>NaN</td>\n",
       "      <td>2.37</td>\n",
       "      <td>NaN</td>\n",
       "      <td>...</td>\n",
       "      <td>NaN</td>\n",
       "      <td>NaN</td>\n",
       "      <td>5.90</td>\n",
       "      <td>NaN</td>\n",
       "      <td>15.19</td>\n",
       "      <td>NaN</td>\n",
       "      <td>NaN</td>\n",
       "      <td>NaN</td>\n",
       "      <td>NaN</td>\n",
       "      <td>11.958000</td>\n",
       "    </tr>\n",
       "    <tr>\n",
       "      <th>77000000050014974</th>\n",
       "      <td>11.2</td>\n",
       "      <td>27.91</td>\n",
       "      <td>NaN</td>\n",
       "      <td>NaN</td>\n",
       "      <td>22.22</td>\n",
       "      <td>NaN</td>\n",
       "      <td>NaN</td>\n",
       "      <td>NaN</td>\n",
       "      <td>NaN</td>\n",
       "      <td>NaN</td>\n",
       "      <td>...</td>\n",
       "      <td>NaN</td>\n",
       "      <td>NaN</td>\n",
       "      <td>NaN</td>\n",
       "      <td>NaN</td>\n",
       "      <td>NaN</td>\n",
       "      <td>NaN</td>\n",
       "      <td>NaN</td>\n",
       "      <td>NaN</td>\n",
       "      <td>NaN</td>\n",
       "      <td>19.418000</td>\n",
       "    </tr>\n",
       "  </tbody>\n",
       "</table>\n",
       "<p>5 rows × 31 columns</p>\n",
       "</div>"
      ],
      "text/plain": [
       "datekey            2019-01-03 00:00:00  2019-01-04 00:00:00  \\\n",
       "customerid                                                    \n",
       "77000000050003334                  NaN                  NaN   \n",
       "77000000050010221                  NaN                  NaN   \n",
       "77000000050012258                  NaN                  NaN   \n",
       "77000000050014586                  NaN                  NaN   \n",
       "77000000050014974                 11.2                27.91   \n",
       "\n",
       "datekey            2019-01-05 00:00:00  2019-01-10 00:00:00  \\\n",
       "customerid                                                    \n",
       "77000000050003334                  NaN                  NaN   \n",
       "77000000050010221                  NaN                  NaN   \n",
       "77000000050012258                  NaN                39.24   \n",
       "77000000050014586                  NaN                  NaN   \n",
       "77000000050014974                  NaN                  NaN   \n",
       "\n",
       "datekey            2019-01-11 00:00:00  2019-01-12 00:00:00  \\\n",
       "customerid                                                    \n",
       "77000000050003334                33.14                  NaN   \n",
       "77000000050010221                  NaN                  NaN   \n",
       "77000000050012258                  NaN                  NaN   \n",
       "77000000050014586                  NaN                  NaN   \n",
       "77000000050014974                22.22                  NaN   \n",
       "\n",
       "datekey            2019-01-14 00:00:00  2019-01-19 00:00:00  \\\n",
       "customerid                                                    \n",
       "77000000050003334                  NaN                  NaN   \n",
       "77000000050010221                  NaN                  NaN   \n",
       "77000000050012258                38.13                  NaN   \n",
       "77000000050014586                  NaN                  NaN   \n",
       "77000000050014974                  NaN                  NaN   \n",
       "\n",
       "datekey            2019-01-24 00:00:00  2019-01-31 00:00:00  ...  \\\n",
       "customerid                                                   ...   \n",
       "77000000050003334                  NaN                  NaN  ...   \n",
       "77000000050010221                  NaN                  NaN  ...   \n",
       "77000000050012258                18.15                 5.06  ...   \n",
       "77000000050014586                 2.37                  NaN  ...   \n",
       "77000000050014974                  NaN                  NaN  ...   \n",
       "\n",
       "datekey            2019-03-08 00:00:00  2019-03-11 00:00:00  \\\n",
       "customerid                                                    \n",
       "77000000050003334                  NaN                  NaN   \n",
       "77000000050010221                  NaN                  NaN   \n",
       "77000000050012258                  NaN                  NaN   \n",
       "77000000050014586                  NaN                  NaN   \n",
       "77000000050014974                  NaN                  NaN   \n",
       "\n",
       "datekey            2019-03-14 00:00:00  2019-03-16 00:00:00  \\\n",
       "customerid                                                    \n",
       "77000000050003334                  NaN                  NaN   \n",
       "77000000050010221                  NaN                  NaN   \n",
       "77000000050012258                 3.99                  NaN   \n",
       "77000000050014586                 5.90                  NaN   \n",
       "77000000050014974                  NaN                  NaN   \n",
       "\n",
       "datekey            2019-03-18 00:00:00  2019-03-21 00:00:00  \\\n",
       "customerid                                                    \n",
       "77000000050003334                  NaN                  NaN   \n",
       "77000000050010221                  NaN                  NaN   \n",
       "77000000050012258                  NaN                34.22   \n",
       "77000000050014586                15.19                  NaN   \n",
       "77000000050014974                  NaN                  NaN   \n",
       "\n",
       "datekey            2019-03-23 00:00:00  2019-03-25 00:00:00  \\\n",
       "customerid                                                    \n",
       "77000000050003334                  NaN                  NaN   \n",
       "77000000050010221                  NaN                  NaN   \n",
       "77000000050012258                  NaN                  NaN   \n",
       "77000000050014586                  NaN                  NaN   \n",
       "77000000050014974                  NaN                  NaN   \n",
       "\n",
       "datekey            2019-03-30 00:00:00  avg_compra_diaria  \n",
       "customerid                                                 \n",
       "77000000050003334                  NaN          49.653333  \n",
       "77000000050010221                  NaN          33.300000  \n",
       "77000000050012258                  NaN          23.131667  \n",
       "77000000050014586                  NaN          11.958000  \n",
       "77000000050014974                  NaN          19.418000  \n",
       "\n",
       "[5 rows x 31 columns]"
      ]
     },
     "execution_count": 1306,
     "metadata": {},
     "output_type": "execute_result"
    }
   ],
   "source": [
    "dF_day=dF_tickets.groupby(['customerid','datekey'])['extendedamount'].sum()\n",
    "\n",
    "# descomentando .fillna(0) se obtiene el gasto promedio diario, si no, se obtiene el gasto promedio por compra realizada\n",
    "dF_JR=dF_day.reset_index().pivot(index=\"customerid\", columns=\"datekey\", values=\"extendedamount\")#.fillna(0)\n",
    "\n",
    "dF_JR[\"avg_compra_diaria\"]=dF_JR.mean(axis=1)\n",
    "dF_JR.head()"
   ]
  },
  {
   "cell_type": "code",
   "execution_count": 1307,
   "metadata": {},
   "outputs": [
    {
     "data": {
      "text/html": [
       "<div>\n",
       "<style scoped>\n",
       "    .dataframe tbody tr th:only-of-type {\n",
       "        vertical-align: middle;\n",
       "    }\n",
       "\n",
       "    .dataframe tbody tr th {\n",
       "        vertical-align: top;\n",
       "    }\n",
       "\n",
       "    .dataframe thead th {\n",
       "        text-align: right;\n",
       "    }\n",
       "</style>\n",
       "<table border=\"1\" class=\"dataframe\">\n",
       "  <thead>\n",
       "    <tr style=\"text-align: right;\">\n",
       "      <th></th>\n",
       "      <th>customerid</th>\n",
       "      <th>avg_compra_diaria</th>\n",
       "      <th>isocountrycode</th>\n",
       "      <th>regularstoreid</th>\n",
       "      <th>registrationdate</th>\n",
       "      <th>unregistrationdate</th>\n",
       "      <th>gender</th>\n",
       "      <th>age</th>\n",
       "      <th>zipcode</th>\n",
       "    </tr>\n",
       "  </thead>\n",
       "  <tbody>\n",
       "    <tr>\n",
       "      <th>0</th>\n",
       "      <td>77000000050003334</td>\n",
       "      <td>49.653333</td>\n",
       "      <td>ES</td>\n",
       "      <td>ES4507</td>\n",
       "      <td>2017-11-26</td>\n",
       "      <td>NaN</td>\n",
       "      <td>NaN</td>\n",
       "      <td>NaN</td>\n",
       "      <td>NaN</td>\n",
       "    </tr>\n",
       "    <tr>\n",
       "      <th>1</th>\n",
       "      <td>77000000050010221</td>\n",
       "      <td>33.300000</td>\n",
       "      <td>ES</td>\n",
       "      <td>ES0428</td>\n",
       "      <td>2017-11-26</td>\n",
       "      <td>NaN</td>\n",
       "      <td>NaN</td>\n",
       "      <td>NaN</td>\n",
       "      <td>NaN</td>\n",
       "    </tr>\n",
       "    <tr>\n",
       "      <th>2</th>\n",
       "      <td>77000000050012258</td>\n",
       "      <td>23.131667</td>\n",
       "      <td>ES</td>\n",
       "      <td>ES4504</td>\n",
       "      <td>2017-11-26</td>\n",
       "      <td>NaN</td>\n",
       "      <td>NaN</td>\n",
       "      <td>NaN</td>\n",
       "      <td>NaN</td>\n",
       "    </tr>\n",
       "    <tr>\n",
       "      <th>3</th>\n",
       "      <td>77000000050014586</td>\n",
       "      <td>11.958000</td>\n",
       "      <td>ES</td>\n",
       "      <td>ES0263</td>\n",
       "      <td>2017-11-26</td>\n",
       "      <td>NaN</td>\n",
       "      <td>NaN</td>\n",
       "      <td>NaN</td>\n",
       "      <td>NaN</td>\n",
       "    </tr>\n",
       "    <tr>\n",
       "      <th>4</th>\n",
       "      <td>77000000050014974</td>\n",
       "      <td>19.418000</td>\n",
       "      <td>ES</td>\n",
       "      <td>ES4503</td>\n",
       "      <td>2017-11-26</td>\n",
       "      <td>NaN</td>\n",
       "      <td>NaN</td>\n",
       "      <td>NaN</td>\n",
       "      <td>NaN</td>\n",
       "    </tr>\n",
       "    <tr>\n",
       "      <th>5</th>\n",
       "      <td>77000000050015653</td>\n",
       "      <td>26.810000</td>\n",
       "      <td>ES</td>\n",
       "      <td>ES0428</td>\n",
       "      <td>2017-11-26</td>\n",
       "      <td>NaN</td>\n",
       "      <td>F</td>\n",
       "      <td>40.0</td>\n",
       "      <td>50010</td>\n",
       "    </tr>\n",
       "    <tr>\n",
       "      <th>6</th>\n",
       "      <td>77000000050019145</td>\n",
       "      <td>7.810000</td>\n",
       "      <td>ES</td>\n",
       "      <td>ES0428</td>\n",
       "      <td>2017-11-27</td>\n",
       "      <td>NaN</td>\n",
       "      <td>F</td>\n",
       "      <td>32.0</td>\n",
       "      <td>50011</td>\n",
       "    </tr>\n",
       "    <tr>\n",
       "      <th>7</th>\n",
       "      <td>77000000050027196</td>\n",
       "      <td>40.636667</td>\n",
       "      <td>ES</td>\n",
       "      <td>ES4503</td>\n",
       "      <td>2017-11-27</td>\n",
       "      <td>NaN</td>\n",
       "      <td>NaN</td>\n",
       "      <td>NaN</td>\n",
       "      <td>NaN</td>\n",
       "    </tr>\n",
       "    <tr>\n",
       "      <th>8</th>\n",
       "      <td>77000000050028748</td>\n",
       "      <td>23.296667</td>\n",
       "      <td>ES</td>\n",
       "      <td>ES4507</td>\n",
       "      <td>2017-11-27</td>\n",
       "      <td>NaN</td>\n",
       "      <td>NaN</td>\n",
       "      <td>NaN</td>\n",
       "      <td>NaN</td>\n",
       "    </tr>\n",
       "    <tr>\n",
       "      <th>9</th>\n",
       "      <td>77000000050034471</td>\n",
       "      <td>16.642500</td>\n",
       "      <td>ES</td>\n",
       "      <td>ES0428</td>\n",
       "      <td>2017-11-27</td>\n",
       "      <td>NaN</td>\n",
       "      <td>NaN</td>\n",
       "      <td>NaN</td>\n",
       "      <td>NaN</td>\n",
       "    </tr>\n",
       "    <tr>\n",
       "      <th>10</th>\n",
       "      <td>77000000050036508</td>\n",
       "      <td>33.556667</td>\n",
       "      <td>ES</td>\n",
       "      <td>ES4507</td>\n",
       "      <td>2017-11-27</td>\n",
       "      <td>NaN</td>\n",
       "      <td>F</td>\n",
       "      <td>58.0</td>\n",
       "      <td>50014</td>\n",
       "    </tr>\n",
       "    <tr>\n",
       "      <th>11</th>\n",
       "      <td>77000000050038157</td>\n",
       "      <td>34.660000</td>\n",
       "      <td>ES</td>\n",
       "      <td>ES4507</td>\n",
       "      <td>2017-11-27</td>\n",
       "      <td>NaN</td>\n",
       "      <td>M</td>\n",
       "      <td>41.0</td>\n",
       "      <td>50015</td>\n",
       "    </tr>\n",
       "    <tr>\n",
       "      <th>12</th>\n",
       "      <td>77000000050039418</td>\n",
       "      <td>8.600000</td>\n",
       "      <td>ES</td>\n",
       "      <td>ES4504</td>\n",
       "      <td>2017-11-27</td>\n",
       "      <td>NaN</td>\n",
       "      <td>M</td>\n",
       "      <td>67.0</td>\n",
       "      <td>50018</td>\n",
       "    </tr>\n",
       "    <tr>\n",
       "      <th>13</th>\n",
       "      <td>77000000050044656</td>\n",
       "      <td>43.420000</td>\n",
       "      <td>ES</td>\n",
       "      <td>ES0428</td>\n",
       "      <td>2017-11-27</td>\n",
       "      <td>NaN</td>\n",
       "      <td>F</td>\n",
       "      <td>59.0</td>\n",
       "      <td>50001</td>\n",
       "    </tr>\n",
       "    <tr>\n",
       "      <th>14</th>\n",
       "      <td>77000000050046790</td>\n",
       "      <td>38.440000</td>\n",
       "      <td>ES</td>\n",
       "      <td>ES4503</td>\n",
       "      <td>2017-11-27</td>\n",
       "      <td>NaN</td>\n",
       "      <td>M</td>\n",
       "      <td>48.0</td>\n",
       "      <td>50007</td>\n",
       "    </tr>\n",
       "    <tr>\n",
       "      <th>15</th>\n",
       "      <td>77000000050048051</td>\n",
       "      <td>21.952222</td>\n",
       "      <td>ES</td>\n",
       "      <td>ES4507</td>\n",
       "      <td>2017-11-27</td>\n",
       "      <td>NaN</td>\n",
       "      <td>NaN</td>\n",
       "      <td>NaN</td>\n",
       "      <td>NaN</td>\n",
       "    </tr>\n",
       "    <tr>\n",
       "      <th>16</th>\n",
       "      <td>77000000050049118</td>\n",
       "      <td>40.030000</td>\n",
       "      <td>ES</td>\n",
       "      <td>ES4503</td>\n",
       "      <td>2017-11-27</td>\n",
       "      <td>NaN</td>\n",
       "      <td>F</td>\n",
       "      <td>54.0</td>\n",
       "      <td>50008</td>\n",
       "    </tr>\n",
       "    <tr>\n",
       "      <th>17</th>\n",
       "      <td>77000000050050088</td>\n",
       "      <td>15.620000</td>\n",
       "      <td>ES</td>\n",
       "      <td>ES4504</td>\n",
       "      <td>2017-11-27</td>\n",
       "      <td>NaN</td>\n",
       "      <td>NaN</td>\n",
       "      <td>NaN</td>\n",
       "      <td>NaN</td>\n",
       "    </tr>\n",
       "    <tr>\n",
       "      <th>18</th>\n",
       "      <td>77000000050050185</td>\n",
       "      <td>10.307500</td>\n",
       "      <td>ES</td>\n",
       "      <td>ES4503</td>\n",
       "      <td>2017-11-27</td>\n",
       "      <td>NaN</td>\n",
       "      <td>F</td>\n",
       "      <td>55.0</td>\n",
       "      <td>50420</td>\n",
       "    </tr>\n",
       "    <tr>\n",
       "      <th>19</th>\n",
       "      <td>77000000050054162</td>\n",
       "      <td>32.800000</td>\n",
       "      <td>ES</td>\n",
       "      <td>ES4503</td>\n",
       "      <td>2017-11-27</td>\n",
       "      <td>NaN</td>\n",
       "      <td>M</td>\n",
       "      <td>23.0</td>\n",
       "      <td>50012</td>\n",
       "    </tr>\n",
       "  </tbody>\n",
       "</table>\n",
       "</div>"
      ],
      "text/plain": [
       "           customerid  avg_compra_diaria isocountrycode regularstoreid  \\\n",
       "0   77000000050003334          49.653333             ES         ES4507   \n",
       "1   77000000050010221          33.300000             ES         ES0428   \n",
       "2   77000000050012258          23.131667             ES         ES4504   \n",
       "3   77000000050014586          11.958000             ES         ES0263   \n",
       "4   77000000050014974          19.418000             ES         ES4503   \n",
       "5   77000000050015653          26.810000             ES         ES0428   \n",
       "6   77000000050019145           7.810000             ES         ES0428   \n",
       "7   77000000050027196          40.636667             ES         ES4503   \n",
       "8   77000000050028748          23.296667             ES         ES4507   \n",
       "9   77000000050034471          16.642500             ES         ES0428   \n",
       "10  77000000050036508          33.556667             ES         ES4507   \n",
       "11  77000000050038157          34.660000             ES         ES4507   \n",
       "12  77000000050039418           8.600000             ES         ES4504   \n",
       "13  77000000050044656          43.420000             ES         ES0428   \n",
       "14  77000000050046790          38.440000             ES         ES4503   \n",
       "15  77000000050048051          21.952222             ES         ES4507   \n",
       "16  77000000050049118          40.030000             ES         ES4503   \n",
       "17  77000000050050088          15.620000             ES         ES4504   \n",
       "18  77000000050050185          10.307500             ES         ES4503   \n",
       "19  77000000050054162          32.800000             ES         ES4503   \n",
       "\n",
       "   registrationdate unregistrationdate gender   age zipcode  \n",
       "0        2017-11-26                NaN    NaN   NaN     NaN  \n",
       "1        2017-11-26                NaN    NaN   NaN     NaN  \n",
       "2        2017-11-26                NaN    NaN   NaN     NaN  \n",
       "3        2017-11-26                NaN    NaN   NaN     NaN  \n",
       "4        2017-11-26                NaN    NaN   NaN     NaN  \n",
       "5        2017-11-26                NaN      F  40.0   50010  \n",
       "6        2017-11-27                NaN      F  32.0   50011  \n",
       "7        2017-11-27                NaN    NaN   NaN     NaN  \n",
       "8        2017-11-27                NaN    NaN   NaN     NaN  \n",
       "9        2017-11-27                NaN    NaN   NaN     NaN  \n",
       "10       2017-11-27                NaN      F  58.0   50014  \n",
       "11       2017-11-27                NaN      M  41.0   50015  \n",
       "12       2017-11-27                NaN      M  67.0   50018  \n",
       "13       2017-11-27                NaN      F  59.0   50001  \n",
       "14       2017-11-27                NaN      M  48.0   50007  \n",
       "15       2017-11-27                NaN    NaN   NaN     NaN  \n",
       "16       2017-11-27                NaN      F  54.0   50008  \n",
       "17       2017-11-27                NaN    NaN   NaN     NaN  \n",
       "18       2017-11-27                NaN      F  55.0   50420  \n",
       "19       2017-11-27                NaN      M  23.0   50012  "
      ]
     },
     "execution_count": 1307,
     "metadata": {},
     "output_type": "execute_result"
    }
   ],
   "source": [
    "data=pd.DataFrame()\n",
    "data['avg_compra_diaria'] = dF_JR['avg_compra_diaria']\n",
    "data_Final = data.merge(dF_customers, on=\"customerid\", how = 'inner')\n",
    "data_Final.head(20)"
   ]
  },
  {
   "cell_type": "code",
   "execution_count": 1308,
   "metadata": {},
   "outputs": [
    {
     "data": {
      "text/plain": [
       "<matplotlib.collections.PathCollection at 0x1a8dfca2e8>"
      ]
     },
     "execution_count": 1308,
     "metadata": {},
     "output_type": "execute_result"
    },
    {
     "data": {
      "image/png": "[encoded data removed]",
      "text/plain": [
       "<Figure size 1800x720 with 1 Axes>"
      ]
     },
     "metadata": {
      "needs_background": "light"
     },
     "output_type": "display_data"
    }
   ],
   "source": [
    "data_Final.loc[(data_Final.age < 15.0) | (data_Final.age > 100.0), 'age'] = 'NaN'\n",
    "plt.rcParams['figure.figsize'] =[25, 10]\n",
    "dataplotty = data_Final[['avg_compra_diaria', 'age']].copy()\n",
    "dataplotty['avg_compra_diaria'] = dataplotty['avg_compra_diaria']\n",
    "dataplotty['age'] = dataplotty['age']\n",
    "plt.scatter(dataplotty.values[:, 1], dataplotty.values[:, 0], cmap='rainbow')"
   ]
  },
  {
   "cell_type": "code",
   "execution_count": null,
   "metadata": {},
   "outputs": [],
   "source": []
  },
  {
   "cell_type": "code",
   "execution_count": null,
   "metadata": {},
   "outputs": [],
   "source": []
  }
 ],
 "metadata": {
  "kernelspec": {
   "display_name": "Python 3",
   "language": "python",
   "name": "python3"
  },
  "language_info": {
   "codemirror_mode": {
    "name": "ipython",
    "version": 3
   },
   "file_extension": ".py",
   "mimetype": "text/x-python",
   "name": "python",
   "nbconvert_exporter": "python",
   "pygments_lexer": "ipython3",
   "version": "3.7.3"
  }
 },
 "nbformat": 4,
 "nbformat_minor": 2
}
